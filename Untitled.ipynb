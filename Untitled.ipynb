{
 "cells": [
  {
   "cell_type": "code",
   "execution_count": 1,
   "metadata": {},
   "outputs": [],
   "source": [
    "import numpy as np\n",
    "import pandas as pd\n",
    "import matplotlib\n",
    "import seaborn as sns\n",
    "import matplotlib.pyplot as plt\n",
    "%matplotlib inline"
   ]
  },
  {
   "cell_type": "code",
   "execution_count": 2,
   "metadata": {},
   "outputs": [],
   "source": [
    "hr = pd.read_csv(\"data/hr_data.csv\")"
   ]
  },
  {
   "cell_type": "code",
   "execution_count": 3,
   "metadata": {},
   "outputs": [],
   "source": [
    "categorical_list= ['Attrition', 'BusinessTravel', 'Department', 'Education', 'EducationField',\\\n",
    "                 'Gender', 'JobInvolvement', 'JobLevel','JobRole', 'JobSatisfaction','MaritalStatus',\\\n",
    "                  'PerformanceRating','RelationshipSatisfaction','Over18', 'OverTime', 'WorkLifeBalance']"
   ]
  },
  {
   "cell_type": "code",
   "execution_count": 5,
   "metadata": {},
   "outputs": [],
   "source": [
    "for col in categorical_list:\n",
    "    hr[col] = hr[col].astype('category')"
   ]
  },
  {
   "cell_type": "code",
   "execution_count": 31,
   "metadata": {},
   "outputs": [
    {
     "data": {
      "text/plain": [
       "35"
      ]
     },
     "execution_count": 31,
     "metadata": {},
     "output_type": "execute_result"
    }
   ],
   "source": [
    "len(hr.columns)"
   ]
  },
  {
   "cell_type": "code",
   "execution_count": 17,
   "metadata": {},
   "outputs": [
    {
     "data": {
      "text/plain": [
       "Age                            int64\n",
       "Attrition                   category\n",
       "BusinessTravel              category\n",
       "DailyRate                      int64\n",
       "Department                  category\n",
       "DistanceFromHome               int64\n",
       "Education                   category\n",
       "EducationField              category\n",
       "EmployeeCount                  int64\n",
       "EmployeeNumber                 int64\n",
       "EnvironmentSatisfaction        int64\n",
       "Gender                      category\n",
       "HourlyRate                     int64\n",
       "JobInvolvement              category\n",
       "JobLevel                    category\n",
       "JobRole                     category\n",
       "JobSatisfaction             category\n",
       "MaritalStatus               category\n",
       "MonthlyIncome                  int64\n",
       "MonthlyRate                    int64\n",
       "NumCompaniesWorked             int64\n",
       "Over18                      category\n",
       "OverTime                    category\n",
       "PercentSalaryHike              int64\n",
       "PerformanceRating           category\n",
       "RelationshipSatisfaction    category\n",
       "StandardHours                  int64\n",
       "StockOptionLevel               int64\n",
       "TotalWorkingYears              int64\n",
       "TrainingTimesLastYear          int64\n",
       "WorkLifeBalance             category\n",
       "YearsAtCompany                 int64\n",
       "YearsInCurrentRole             int64\n",
       "YearsSinceLastPromotion        int64\n",
       "YearsWithCurrManager           int64\n",
       "dtype: object"
      ]
     },
     "execution_count": 17,
     "metadata": {},
     "output_type": "execute_result"
    }
   ],
   "source": [
    "hr.dtypes"
   ]
  },
  {
   "cell_type": "markdown",
   "metadata": {},
   "source": [
    "Education 1 'Below College' 2 'College' 3 'Bachelor' 4 'Master' 5 'Doctor'\n",
    "\n",
    "EnvironmentSatisfaction 1 'Low' 2 'Medium' 3 'High' 4 'Very High'\n",
    "\n",
    "JobInvolvement 1 'Low' 2 'Medium' 3 'High' 4 'Very High'\n",
    "\n",
    "JobSatisfaction 1 'Low' 2 'Medium' 3 'High' 4 'Very High'\n",
    "\n",
    "PerformanceRating 1 'Low' 2 'Good' 3 'Excellent' 4 'Outstanding'\n",
    "\n",
    "RelationshipSatisfaction 1 'Low' 2 'Medium' 3 'High' 4 'Very High'\n",
    "\n",
    "WorkLifeBalance 1 'Bad' 2 'Good' 3 'Better' 4 'Best'"
   ]
  },
  {
   "cell_type": "code",
   "execution_count": 109,
   "metadata": {},
   "outputs": [
    {
     "data": {
      "text/html": [
       "<div>\n",
       "<style scoped>\n",
       "    .dataframe tbody tr th:only-of-type {\n",
       "        vertical-align: middle;\n",
       "    }\n",
       "\n",
       "    .dataframe tbody tr th {\n",
       "        vertical-align: top;\n",
       "    }\n",
       "\n",
       "    .dataframe thead th {\n",
       "        text-align: right;\n",
       "    }\n",
       "</style>\n",
       "<table border=\"1\" class=\"dataframe\">\n",
       "  <thead>\n",
       "    <tr style=\"text-align: right;\">\n",
       "      <th></th>\n",
       "      <th>Age</th>\n",
       "      <th>DailyRate</th>\n",
       "      <th>DistanceFromHome</th>\n",
       "      <th>EmployeeCount</th>\n",
       "      <th>EmployeeNumber</th>\n",
       "      <th>EnvironmentSatisfaction</th>\n",
       "      <th>HourlyRate</th>\n",
       "      <th>MonthlyIncome</th>\n",
       "      <th>MonthlyRate</th>\n",
       "      <th>NumCompaniesWorked</th>\n",
       "      <th>PercentSalaryHike</th>\n",
       "      <th>StandardHours</th>\n",
       "      <th>StockOptionLevel</th>\n",
       "      <th>TotalWorkingYears</th>\n",
       "      <th>TrainingTimesLastYear</th>\n",
       "      <th>YearsAtCompany</th>\n",
       "      <th>YearsInCurrentRole</th>\n",
       "      <th>YearsSinceLastPromotion</th>\n",
       "      <th>YearsWithCurrManager</th>\n",
       "    </tr>\n",
       "    <tr>\n",
       "      <th>Attrition</th>\n",
       "      <th></th>\n",
       "      <th></th>\n",
       "      <th></th>\n",
       "      <th></th>\n",
       "      <th></th>\n",
       "      <th></th>\n",
       "      <th></th>\n",
       "      <th></th>\n",
       "      <th></th>\n",
       "      <th></th>\n",
       "      <th></th>\n",
       "      <th></th>\n",
       "      <th></th>\n",
       "      <th></th>\n",
       "      <th></th>\n",
       "      <th></th>\n",
       "      <th></th>\n",
       "      <th></th>\n",
       "      <th></th>\n",
       "    </tr>\n",
       "  </thead>\n",
       "  <tbody>\n",
       "    <tr>\n",
       "      <th>No</th>\n",
       "      <td>46313</td>\n",
       "      <td>1001818</td>\n",
       "      <td>10993</td>\n",
       "      <td>1233</td>\n",
       "      <td>1267100</td>\n",
       "      <td>3417</td>\n",
       "      <td>81319</td>\n",
       "      <td>8424768</td>\n",
       "      <td>17589706</td>\n",
       "      <td>3262</td>\n",
       "      <td>18780</td>\n",
       "      <td>98640</td>\n",
       "      <td>1042</td>\n",
       "      <td>14627</td>\n",
       "      <td>3493</td>\n",
       "      <td>9086</td>\n",
       "      <td>5529</td>\n",
       "      <td>2755</td>\n",
       "      <td>5385</td>\n",
       "    </tr>\n",
       "    <tr>\n",
       "      <th>Yes</th>\n",
       "      <td>7965</td>\n",
       "      <td>177836</td>\n",
       "      <td>2520</td>\n",
       "      <td>237</td>\n",
       "      <td>239452</td>\n",
       "      <td>584</td>\n",
       "      <td>15541</td>\n",
       "      <td>1134541</td>\n",
       "      <td>3450556</td>\n",
       "      <td>697</td>\n",
       "      <td>3578</td>\n",
       "      <td>18960</td>\n",
       "      <td>125</td>\n",
       "      <td>1954</td>\n",
       "      <td>622</td>\n",
       "      <td>1216</td>\n",
       "      <td>688</td>\n",
       "      <td>461</td>\n",
       "      <td>676</td>\n",
       "    </tr>\n",
       "  </tbody>\n",
       "</table>\n",
       "</div>"
      ],
      "text/plain": [
       "             Age  DailyRate  DistanceFromHome  EmployeeCount  EmployeeNumber  \\\n",
       "Attrition                                                                      \n",
       "No         46313    1001818             10993           1233         1267100   \n",
       "Yes         7965     177836              2520            237          239452   \n",
       "\n",
       "           EnvironmentSatisfaction  HourlyRate  MonthlyIncome  MonthlyRate  \\\n",
       "Attrition                                                                    \n",
       "No                            3417       81319        8424768     17589706   \n",
       "Yes                            584       15541        1134541      3450556   \n",
       "\n",
       "           NumCompaniesWorked  PercentSalaryHike  StandardHours  \\\n",
       "Attrition                                                         \n",
       "No                       3262              18780          98640   \n",
       "Yes                       697               3578          18960   \n",
       "\n",
       "           StockOptionLevel  TotalWorkingYears  TrainingTimesLastYear  \\\n",
       "Attrition                                                               \n",
       "No                     1042              14627                   3493   \n",
       "Yes                     125               1954                    622   \n",
       "\n",
       "           YearsAtCompany  YearsInCurrentRole  YearsSinceLastPromotion  \\\n",
       "Attrition                                                                \n",
       "No                   9086                5529                     2755   \n",
       "Yes                  1216                 688                      461   \n",
       "\n",
       "           YearsWithCurrManager  \n",
       "Attrition                        \n",
       "No                         5385  \n",
       "Yes                         676  "
      ]
     },
     "execution_count": 109,
     "metadata": {},
     "output_type": "execute_result"
    }
   ],
   "source": [
    "attr_sum = hr.groupby(\"Attrition\").sum()\n",
    "attr_sum"
   ]
  },
  {
   "cell_type": "code",
   "execution_count": 110,
   "metadata": {},
   "outputs": [],
   "source": [
    "no_count = hr.groupby(\"Attrition\").count().iloc[0,0]\n",
    "yes_count = hr.groupby(\"Attrition\").count().iloc[1,0]"
   ]
  },
  {
   "cell_type": "code",
   "execution_count": 122,
   "metadata": {},
   "outputs": [
    {
     "data": {
      "text/html": [
       "<div>\n",
       "<style scoped>\n",
       "    .dataframe tbody tr th:only-of-type {\n",
       "        vertical-align: middle;\n",
       "    }\n",
       "\n",
       "    .dataframe tbody tr th {\n",
       "        vertical-align: top;\n",
       "    }\n",
       "\n",
       "    .dataframe thead th {\n",
       "        text-align: right;\n",
       "    }\n",
       "</style>\n",
       "<table border=\"1\" class=\"dataframe\">\n",
       "  <thead>\n",
       "    <tr style=\"text-align: right;\">\n",
       "      <th></th>\n",
       "      <th>Age</th>\n",
       "      <th>DailyRate</th>\n",
       "      <th>DistanceFromHome</th>\n",
       "      <th>EmployeeCount</th>\n",
       "      <th>EmployeeNumber</th>\n",
       "      <th>EnvironmentSatisfaction</th>\n",
       "      <th>HourlyRate</th>\n",
       "      <th>MonthlyIncome</th>\n",
       "      <th>MonthlyRate</th>\n",
       "      <th>NumCompaniesWorked</th>\n",
       "      <th>PercentSalaryHike</th>\n",
       "      <th>StandardHours</th>\n",
       "      <th>StockOptionLevel</th>\n",
       "      <th>TotalWorkingYears</th>\n",
       "      <th>TrainingTimesLastYear</th>\n",
       "      <th>YearsAtCompany</th>\n",
       "      <th>YearsInCurrentRole</th>\n",
       "      <th>YearsSinceLastPromotion</th>\n",
       "      <th>YearsWithCurrManager</th>\n",
       "    </tr>\n",
       "  </thead>\n",
       "  <tbody>\n",
       "    <tr>\n",
       "      <th>No</th>\n",
       "      <td>0.527776</td>\n",
       "      <td>0.519881</td>\n",
       "      <td>0.456077</td>\n",
       "      <td>0.5</td>\n",
       "      <td>0.504247</td>\n",
       "      <td>0.529334</td>\n",
       "      <td>0.501438</td>\n",
       "      <td>0.588024</td>\n",
       "      <td>0.494908</td>\n",
       "      <td>0.473566</td>\n",
       "      <td>0.502211</td>\n",
       "      <td>0.5</td>\n",
       "      <td>0.615724</td>\n",
       "      <td>0.589971</td>\n",
       "      <td>0.519098</td>\n",
       "      <td>0.58953</td>\n",
       "      <td>0.607026</td>\n",
       "      <td>0.534602</td>\n",
       "      <td>0.604926</td>\n",
       "    </tr>\n",
       "    <tr>\n",
       "      <th>Yes</th>\n",
       "      <td>0.472224</td>\n",
       "      <td>0.480119</td>\n",
       "      <td>0.543923</td>\n",
       "      <td>0.5</td>\n",
       "      <td>0.495753</td>\n",
       "      <td>0.470666</td>\n",
       "      <td>0.498562</td>\n",
       "      <td>0.411976</td>\n",
       "      <td>0.505092</td>\n",
       "      <td>0.526434</td>\n",
       "      <td>0.497789</td>\n",
       "      <td>0.5</td>\n",
       "      <td>0.384276</td>\n",
       "      <td>0.410029</td>\n",
       "      <td>0.480902</td>\n",
       "      <td>0.41047</td>\n",
       "      <td>0.392974</td>\n",
       "      <td>0.465398</td>\n",
       "      <td>0.395074</td>\n",
       "    </tr>\n",
       "  </tbody>\n",
       "</table>\n",
       "</div>"
      ],
      "text/plain": [
       "          Age  DailyRate  DistanceFromHome  EmployeeCount  EmployeeNumber  \\\n",
       "No   0.527776   0.519881          0.456077            0.5        0.504247   \n",
       "Yes  0.472224   0.480119          0.543923            0.5        0.495753   \n",
       "\n",
       "     EnvironmentSatisfaction  HourlyRate  MonthlyIncome  MonthlyRate  \\\n",
       "No                  0.529334    0.501438       0.588024     0.494908   \n",
       "Yes                 0.470666    0.498562       0.411976     0.505092   \n",
       "\n",
       "     NumCompaniesWorked  PercentSalaryHike  StandardHours  StockOptionLevel  \\\n",
       "No             0.473566           0.502211            0.5          0.615724   \n",
       "Yes            0.526434           0.497789            0.5          0.384276   \n",
       "\n",
       "     TotalWorkingYears  TrainingTimesLastYear  YearsAtCompany  \\\n",
       "No            0.589971               0.519098         0.58953   \n",
       "Yes           0.410029               0.480902         0.41047   \n",
       "\n",
       "     YearsInCurrentRole  YearsSinceLastPromotion  YearsWithCurrManager  \n",
       "No             0.607026                 0.534602              0.604926  \n",
       "Yes            0.392974                 0.465398              0.395074  "
      ]
     },
     "execution_count": 122,
     "metadata": {},
     "output_type": "execute_result"
    }
   ],
   "source": [
    "attr_perc = pd.DataFrame([attr_sum.iloc[0,:]/no_count, attr_sum.iloc[1,:]/yes_count])\n",
    "attr_perc/attr_perc.sum(0)"
   ]
  },
  {
   "cell_type": "code",
   "execution_count": 123,
   "metadata": {},
   "outputs": [
    {
     "data": {
      "text/html": [
       "<div>\n",
       "<style scoped>\n",
       "    .dataframe tbody tr th:only-of-type {\n",
       "        vertical-align: middle;\n",
       "    }\n",
       "\n",
       "    .dataframe tbody tr th {\n",
       "        vertical-align: top;\n",
       "    }\n",
       "\n",
       "    .dataframe thead th {\n",
       "        text-align: right;\n",
       "    }\n",
       "</style>\n",
       "<table border=\"1\" class=\"dataframe\">\n",
       "  <thead>\n",
       "    <tr style=\"text-align: right;\">\n",
       "      <th></th>\n",
       "      <th>Age</th>\n",
       "      <th>DailyRate</th>\n",
       "      <th>DistanceFromHome</th>\n",
       "      <th>EmployeeCount</th>\n",
       "      <th>EmployeeNumber</th>\n",
       "      <th>EnvironmentSatisfaction</th>\n",
       "      <th>HourlyRate</th>\n",
       "      <th>MonthlyIncome</th>\n",
       "      <th>MonthlyRate</th>\n",
       "      <th>NumCompaniesWorked</th>\n",
       "      <th>PercentSalaryHike</th>\n",
       "      <th>StandardHours</th>\n",
       "      <th>StockOptionLevel</th>\n",
       "      <th>TotalWorkingYears</th>\n",
       "      <th>TrainingTimesLastYear</th>\n",
       "      <th>YearsAtCompany</th>\n",
       "      <th>YearsInCurrentRole</th>\n",
       "      <th>YearsSinceLastPromotion</th>\n",
       "      <th>YearsWithCurrManager</th>\n",
       "    </tr>\n",
       "  </thead>\n",
       "  <tbody>\n",
       "    <tr>\n",
       "      <th>No</th>\n",
       "      <td>NaN</td>\n",
       "      <td>NaN</td>\n",
       "      <td>NaN</td>\n",
       "      <td>NaN</td>\n",
       "      <td>NaN</td>\n",
       "      <td>NaN</td>\n",
       "      <td>NaN</td>\n",
       "      <td>NaN</td>\n",
       "      <td>NaN</td>\n",
       "      <td>NaN</td>\n",
       "      <td>NaN</td>\n",
       "      <td>NaN</td>\n",
       "      <td>NaN</td>\n",
       "      <td>NaN</td>\n",
       "      <td>NaN</td>\n",
       "      <td>NaN</td>\n",
       "      <td>NaN</td>\n",
       "      <td>NaN</td>\n",
       "      <td>NaN</td>\n",
       "    </tr>\n",
       "    <tr>\n",
       "      <th>Yes</th>\n",
       "      <td>-0.055553</td>\n",
       "      <td>-0.039761</td>\n",
       "      <td>0.087846</td>\n",
       "      <td>0.0</td>\n",
       "      <td>-0.008494</td>\n",
       "      <td>-0.058669</td>\n",
       "      <td>-0.002876</td>\n",
       "      <td>-0.176048</td>\n",
       "      <td>0.010183</td>\n",
       "      <td>0.052868</td>\n",
       "      <td>-0.004422</td>\n",
       "      <td>0.0</td>\n",
       "      <td>-0.231448</td>\n",
       "      <td>-0.179942</td>\n",
       "      <td>-0.038197</td>\n",
       "      <td>-0.17906</td>\n",
       "      <td>-0.214052</td>\n",
       "      <td>-0.069204</td>\n",
       "      <td>-0.209853</td>\n",
       "    </tr>\n",
       "  </tbody>\n",
       "</table>\n",
       "</div>"
      ],
      "text/plain": [
       "          Age  DailyRate  DistanceFromHome  EmployeeCount  EmployeeNumber  \\\n",
       "No        NaN        NaN               NaN            NaN             NaN   \n",
       "Yes -0.055553  -0.039761          0.087846            0.0       -0.008494   \n",
       "\n",
       "     EnvironmentSatisfaction  HourlyRate  MonthlyIncome  MonthlyRate  \\\n",
       "No                       NaN         NaN            NaN          NaN   \n",
       "Yes                -0.058669   -0.002876      -0.176048     0.010183   \n",
       "\n",
       "     NumCompaniesWorked  PercentSalaryHike  StandardHours  StockOptionLevel  \\\n",
       "No                  NaN                NaN            NaN               NaN   \n",
       "Yes            0.052868          -0.004422            0.0         -0.231448   \n",
       "\n",
       "     TotalWorkingYears  TrainingTimesLastYear  YearsAtCompany  \\\n",
       "No                 NaN                    NaN             NaN   \n",
       "Yes          -0.179942              -0.038197        -0.17906   \n",
       "\n",
       "     YearsInCurrentRole  YearsSinceLastPromotion  YearsWithCurrManager  \n",
       "No                  NaN                      NaN                   NaN  \n",
       "Yes           -0.214052                -0.069204             -0.209853  "
      ]
     },
     "execution_count": 123,
     "metadata": {},
     "output_type": "execute_result"
    }
   ],
   "source": [
    "(attr_perc/attr_perc.sum(0)).diff()"
   ]
  },
  {
   "cell_type": "markdown",
   "metadata": {},
   "source": [
    "\n",
    "* StockOptionLevel 23%\n",
    "* YearsInCurrentRole 21%\n",
    "* YearsWithCurrManager 20%\n",
    "* TotalWorkingYears 18%\n",
    "* YearsAtCompany 17.9%\n",
    "* MonthlyIncome 17.6%"
   ]
  },
  {
   "cell_type": "code",
   "execution_count": 15,
   "metadata": {},
   "outputs": [
    {
     "data": {
      "text/plain": [
       "<matplotlib.axes._subplots.AxesSubplot at 0x1d88bc21828>"
      ]
     },
     "execution_count": 15,
     "metadata": {},
     "output_type": "execute_result"
    },
    {
     "data": {
      "image/png": "[encoded data removed]",
      "text/plain": [
       "<Figure size 432x288 with 1 Axes>"
      ]
     },
     "metadata": {},
     "output_type": "display_data"
    }
   ],
   "source": [
    "sns.countplot(x=\"Attrition\", data=hr)"
   ]
  },
  {
   "cell_type": "markdown",
   "metadata": {},
   "source": [
    "## Imbalanced Data\n",
    "* weighting: punishing the errors on the minority class\n",
    "* upsampling: randomly replicating instances in the minority class\n",
    "* downsampling: randomly removing instances in the majority class\n",
    "* SMOTE: synthetic minority oversampling technique(minority class instance)"
   ]
  },
  {
   "cell_type": "code",
   "execution_count": 124,
   "metadata": {},
   "outputs": [
    {
     "ename": "ModuleNotFoundError",
     "evalue": "No module named 'imblearn'",
     "output_type": "error",
     "traceback": [
      "\u001b[1;31m---------------------------------------------------------------------------\u001b[0m",
      "\u001b[1;31mModuleNotFoundError\u001b[0m                       Traceback (most recent call last)",
      "\u001b[1;32m<ipython-input-124-dbdd78c95992>\u001b[0m in \u001b[0;36m<module>\u001b[1;34m()\u001b[0m\n\u001b[1;32m----> 1\u001b[1;33m \u001b[1;32mfrom\u001b[0m \u001b[0mimblearn\u001b[0m\u001b[1;33m.\u001b[0m\u001b[0mover_sampling\u001b[0m \u001b[1;32mimport\u001b[0m \u001b[0mSMOTE\u001b[0m\u001b[1;33m\u001b[0m\u001b[0m\n\u001b[0m\u001b[0;32m      2\u001b[0m \u001b[1;32mfrom\u001b[0m \u001b[0msklearn\u001b[0m\u001b[1;33m.\u001b[0m\u001b[0mmodel_selection\u001b[0m \u001b[1;32mimport\u001b[0m \u001b[0mtrain_test_split\u001b[0m\u001b[1;33m\u001b[0m\u001b[0m\n\u001b[0;32m      3\u001b[0m \u001b[1;33m\u001b[0m\u001b[0m\n\u001b[0;32m      4\u001b[0m \u001b[0mX_train\u001b[0m\u001b[1;33m,\u001b[0m \u001b[0mX_test\u001b[0m\u001b[1;33m,\u001b[0m \u001b[0my_train\u001b[0m\u001b[1;33m,\u001b[0m \u001b[0my_test\u001b[0m \u001b[1;33m=\u001b[0m \u001b[0mtrain_test_split\u001b[0m\u001b[1;33m(\u001b[0m\u001b[0mhr\u001b[0m\u001b[1;33m[\u001b[0m\u001b[1;33m:\u001b[0m\u001b[1;33m,\u001b[0m\u001b[1;36m2\u001b[0m\u001b[1;33m:\u001b[0m\u001b[1;33m]\u001b[0m\u001b[1;33m,\u001b[0m \u001b[0mhr\u001b[0m\u001b[1;33m[\u001b[0m\u001b[1;33m:\u001b[0m\u001b[1;33m,\u001b[0m\u001b[1;36m2\u001b[0m\u001b[1;33m]\u001b[0m\u001b[1;33m,\u001b[0m \u001b[0mtest_size\u001b[0m\u001b[1;33m=\u001b[0m\u001b[1;36m0.3\u001b[0m\u001b[1;33m,\u001b[0m \u001b[0mrandom_state\u001b[0m\u001b[1;33m=\u001b[0m\u001b[1;36m0\u001b[0m\u001b[1;33m)\u001b[0m\u001b[1;33m\u001b[0m\u001b[0m\n",
      "\u001b[1;31mModuleNotFoundError\u001b[0m: No module named 'imblearn'"
     ]
    }
   ],
   "source": [
    "from imblearn.over_sampling import SMOTE\n",
    "from sklearn.model_selection import train_test_split\n",
    "\n",
    "X_train, X_test, y_train, y_test = train_test_split(hr[:,2:], hr[:,2], test_size=0.3, random_state=0)\n",
    "\n",
    "sm = SMOTE(random_state=2)\n",
    "X_train_res, y_train_res = sm.fit_sample(X_train, y_train.ravel())"
   ]
  },
  {
   "cell_type": "markdown",
   "metadata": {},
   "source": [
    "* Decision Tree(variable importance)\n",
    "* Random Forest\n",
    "* XGboost"
   ]
  },
  {
   "cell_type": "code",
   "execution_count": null,
   "metadata": {},
   "outputs": [],
   "source": []
  }
 ],
 "metadata": {
  "kernelspec": {
   "display_name": "naver_env",
   "language": "python",
   "name": "naver_env"
  },
  "language_info": {
   "codemirror_mode": {
    "name": "ipython",
    "version": 3
   },
   "file_extension": ".py",
   "mimetype": "text/x-python",
   "name": "python",
   "nbconvert_exporter": "python",
   "pygments_lexer": "ipython3",
   "version": "3.6.4"
  }
 },
 "nbformat": 4,
 "nbformat_minor": 2
}
