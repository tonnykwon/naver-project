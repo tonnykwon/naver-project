{
 "cells": [
  {
   "cell_type": "markdown",
   "metadata": {},
   "source": [
    "# Gradient Boosting Method"
   ]
  },
  {
   "cell_type": "code",
   "execution_count": 15,
   "metadata": {},
   "outputs": [],
   "source": [
    "import numpy as np\n",
    "import pandas as pd\n",
    "from sklearn.ensemble import GradientBoostingClassifier  #GBM \n",
    "from sklearn.model_selection import train_test_split\n",
    "from sklearn.metrics import classification_report\n",
    "from sklearn.grid_search import GridSearchCV\n",
    "\n",
    "import matplotlib.pylab as plt\n",
    "%matplotlib inline\n",
    "import seaborn as sns"
   ]
  },
  {
   "cell_type": "code",
   "execution_count": 16,
   "metadata": {
    "scrolled": true
   },
   "outputs": [
    {
     "data": {
      "text/html": [
       "<div>\n",
       "<style scoped>\n",
       "    .dataframe tbody tr th:only-of-type {\n",
       "        vertical-align: middle;\n",
       "    }\n",
       "\n",
       "    .dataframe tbody tr th {\n",
       "        vertical-align: top;\n",
       "    }\n",
       "\n",
       "    .dataframe thead th {\n",
       "        text-align: right;\n",
       "    }\n",
       "</style>\n",
       "<table border=\"1\" class=\"dataframe\">\n",
       "  <thead>\n",
       "    <tr style=\"text-align: right;\">\n",
       "      <th></th>\n",
       "      <th>Age</th>\n",
       "      <th>DailyRate</th>\n",
       "      <th>DistanceFromHome</th>\n",
       "      <th>EmployeeNumber</th>\n",
       "      <th>HourlyRate</th>\n",
       "      <th>MonthlyIncome</th>\n",
       "      <th>MonthlyRate</th>\n",
       "      <th>NumCompaniesWorked</th>\n",
       "      <th>PercentSalaryHike</th>\n",
       "      <th>TotalWorkingYears</th>\n",
       "      <th>...</th>\n",
       "      <th>RelationshipSatisfaction_1</th>\n",
       "      <th>RelationshipSatisfaction_2</th>\n",
       "      <th>RelationshipSatisfaction_3</th>\n",
       "      <th>RelationshipSatisfaction_4</th>\n",
       "      <th>OverTime_No</th>\n",
       "      <th>OverTime_Yes</th>\n",
       "      <th>WorkLifeBalance_1</th>\n",
       "      <th>WorkLifeBalance_2</th>\n",
       "      <th>WorkLifeBalance_3</th>\n",
       "      <th>WorkLifeBalance_4</th>\n",
       "    </tr>\n",
       "  </thead>\n",
       "  <tbody>\n",
       "    <tr>\n",
       "      <th>0</th>\n",
       "      <td>0.547619</td>\n",
       "      <td>0.715820</td>\n",
       "      <td>0.000000</td>\n",
       "      <td>0.000000</td>\n",
       "      <td>0.914286</td>\n",
       "      <td>0.262454</td>\n",
       "      <td>0.698053</td>\n",
       "      <td>0.888889</td>\n",
       "      <td>0.000000</td>\n",
       "      <td>0.200</td>\n",
       "      <td>...</td>\n",
       "      <td>1</td>\n",
       "      <td>0</td>\n",
       "      <td>0</td>\n",
       "      <td>0</td>\n",
       "      <td>0</td>\n",
       "      <td>1</td>\n",
       "      <td>1</td>\n",
       "      <td>0</td>\n",
       "      <td>0</td>\n",
       "      <td>0</td>\n",
       "    </tr>\n",
       "    <tr>\n",
       "      <th>1</th>\n",
       "      <td>0.738095</td>\n",
       "      <td>0.126700</td>\n",
       "      <td>0.250000</td>\n",
       "      <td>0.000484</td>\n",
       "      <td>0.442857</td>\n",
       "      <td>0.217009</td>\n",
       "      <td>0.916001</td>\n",
       "      <td>0.111111</td>\n",
       "      <td>0.857143</td>\n",
       "      <td>0.250</td>\n",
       "      <td>...</td>\n",
       "      <td>0</td>\n",
       "      <td>0</td>\n",
       "      <td>0</td>\n",
       "      <td>1</td>\n",
       "      <td>1</td>\n",
       "      <td>0</td>\n",
       "      <td>0</td>\n",
       "      <td>0</td>\n",
       "      <td>1</td>\n",
       "      <td>0</td>\n",
       "    </tr>\n",
       "    <tr>\n",
       "      <th>2</th>\n",
       "      <td>0.452381</td>\n",
       "      <td>0.909807</td>\n",
       "      <td>0.035714</td>\n",
       "      <td>0.001451</td>\n",
       "      <td>0.885714</td>\n",
       "      <td>0.056925</td>\n",
       "      <td>0.012126</td>\n",
       "      <td>0.666667</td>\n",
       "      <td>0.285714</td>\n",
       "      <td>0.175</td>\n",
       "      <td>...</td>\n",
       "      <td>0</td>\n",
       "      <td>1</td>\n",
       "      <td>0</td>\n",
       "      <td>0</td>\n",
       "      <td>0</td>\n",
       "      <td>1</td>\n",
       "      <td>0</td>\n",
       "      <td>0</td>\n",
       "      <td>1</td>\n",
       "      <td>0</td>\n",
       "    </tr>\n",
       "    <tr>\n",
       "      <th>3</th>\n",
       "      <td>0.357143</td>\n",
       "      <td>0.923407</td>\n",
       "      <td>0.071429</td>\n",
       "      <td>0.001935</td>\n",
       "      <td>0.371429</td>\n",
       "      <td>0.100053</td>\n",
       "      <td>0.845814</td>\n",
       "      <td>0.111111</td>\n",
       "      <td>0.000000</td>\n",
       "      <td>0.200</td>\n",
       "      <td>...</td>\n",
       "      <td>0</td>\n",
       "      <td>0</td>\n",
       "      <td>1</td>\n",
       "      <td>0</td>\n",
       "      <td>0</td>\n",
       "      <td>1</td>\n",
       "      <td>0</td>\n",
       "      <td>0</td>\n",
       "      <td>1</td>\n",
       "      <td>0</td>\n",
       "    </tr>\n",
       "    <tr>\n",
       "      <th>4</th>\n",
       "      <td>0.214286</td>\n",
       "      <td>0.350036</td>\n",
       "      <td>0.035714</td>\n",
       "      <td>0.002903</td>\n",
       "      <td>0.142857</td>\n",
       "      <td>0.129489</td>\n",
       "      <td>0.583738</td>\n",
       "      <td>1.000000</td>\n",
       "      <td>0.071429</td>\n",
       "      <td>0.150</td>\n",
       "      <td>...</td>\n",
       "      <td>0</td>\n",
       "      <td>0</td>\n",
       "      <td>0</td>\n",
       "      <td>1</td>\n",
       "      <td>1</td>\n",
       "      <td>0</td>\n",
       "      <td>0</td>\n",
       "      <td>0</td>\n",
       "      <td>1</td>\n",
       "      <td>0</td>\n",
       "    </tr>\n",
       "  </tbody>\n",
       "</table>\n",
       "<p>5 rows × 80 columns</p>\n",
       "</div>"
      ],
      "text/plain": [
       "        Age  DailyRate  DistanceFromHome  EmployeeNumber  HourlyRate  \\\n",
       "0  0.547619   0.715820          0.000000        0.000000    0.914286   \n",
       "1  0.738095   0.126700          0.250000        0.000484    0.442857   \n",
       "2  0.452381   0.909807          0.035714        0.001451    0.885714   \n",
       "3  0.357143   0.923407          0.071429        0.001935    0.371429   \n",
       "4  0.214286   0.350036          0.035714        0.002903    0.142857   \n",
       "\n",
       "   MonthlyIncome  MonthlyRate  NumCompaniesWorked  PercentSalaryHike  \\\n",
       "0       0.262454     0.698053            0.888889           0.000000   \n",
       "1       0.217009     0.916001            0.111111           0.857143   \n",
       "2       0.056925     0.012126            0.666667           0.285714   \n",
       "3       0.100053     0.845814            0.111111           0.000000   \n",
       "4       0.129489     0.583738            1.000000           0.071429   \n",
       "\n",
       "   TotalWorkingYears        ...          RelationshipSatisfaction_1  \\\n",
       "0              0.200        ...                                   1   \n",
       "1              0.250        ...                                   0   \n",
       "2              0.175        ...                                   0   \n",
       "3              0.200        ...                                   0   \n",
       "4              0.150        ...                                   0   \n",
       "\n",
       "   RelationshipSatisfaction_2  RelationshipSatisfaction_3  \\\n",
       "0                           0                           0   \n",
       "1                           0                           0   \n",
       "2                           1                           0   \n",
       "3                           0                           1   \n",
       "4                           0                           0   \n",
       "\n",
       "   RelationshipSatisfaction_4  OverTime_No  OverTime_Yes  WorkLifeBalance_1  \\\n",
       "0                           0            0             1                  1   \n",
       "1                           1            1             0                  0   \n",
       "2                           0            0             1                  0   \n",
       "3                           0            0             1                  0   \n",
       "4                           1            1             0                  0   \n",
       "\n",
       "   WorkLifeBalance_2  WorkLifeBalance_3  WorkLifeBalance_4  \n",
       "0                  0                  0                  0  \n",
       "1                  0                  1                  0  \n",
       "2                  0                  1                  0  \n",
       "3                  0                  1                  0  \n",
       "4                  0                  1                  0  \n",
       "\n",
       "[5 rows x 80 columns]"
      ]
     },
     "execution_count": 16,
     "metadata": {},
     "output_type": "execute_result"
    }
   ],
   "source": [
    "hr = pd.read_csv(\"data/processed_data.csv\")\n",
    "hr = hr.drop([\"Unnamed: 0\"], axis=1)\n",
    "target = \"Attrition_Yes\"\n",
    "hr.head()"
   ]
  },
  {
   "cell_type": "code",
   "execution_count": 17,
   "metadata": {},
   "outputs": [
    {
     "data": {
      "text/plain": [
       "(1470, 80)"
      ]
     },
     "execution_count": 17,
     "metadata": {},
     "output_type": "execute_result"
    }
   ],
   "source": [
    "hr.shape"
   ]
  },
  {
   "cell_type": "code",
   "execution_count": 18,
   "metadata": {},
   "outputs": [
    {
     "name": "stdout",
     "output_type": "stream",
     "text": [
      "(1029, 79)\n",
      "(441, 79)\n",
      "(1029,)\n",
      "(441,)\n"
     ]
    }
   ],
   "source": [
    "# split train test\n",
    "hr_labels = hr['Attrition_Yes']\n",
    "hr = hr.drop(['Attrition_Yes'], axis=1)\n",
    "\n",
    "X_train, X_test, y_train, y_test = train_test_split(hr, hr_labels, test_size=0.3, random_state=12)\n",
    "print(X_train.shape)\n",
    "print(X_test.shape)\n",
    "print(y_train.shape)\n",
    "print(y_test.shape)"
   ]
  },
  {
   "cell_type": "code",
   "execution_count": 19,
   "metadata": {},
   "outputs": [
    {
     "name": "stdout",
     "output_type": "stream",
     "text": [
      "Accuracy of the GBM on test set: 0.862\n",
      "             precision    recall  f1-score   support\n",
      "\n",
      "          0       0.89      0.96      0.92       370\n",
      "          1       0.62      0.37      0.46        71\n",
      "\n",
      "avg / total       0.84      0.86      0.85       441\n",
      "\n"
     ]
    },
    {
     "data": {
      "image/png": "[encoded data removed]",
      "text/plain": [
       "<Figure size 432x288 with 1 Axes>"
      ]
     },
     "metadata": {},
     "output_type": "display_data"
    }
   ],
   "source": [
    "# GBM base model\n",
    "# Base parameter setting\n",
    "# n_estimators: The number of boosting stages to perform. \n",
    "base_args = {'max_depth': 3, 'n_estimators': 500, 'subsample': 1, 'random_state': 2,\n",
    "            'min_samples_split': 2, 'min_samples_leaf':1, 'max_features':'sqrt'}\n",
    "\n",
    "base_model = GradientBoostingClassifier(learning_rate=0.1,**base_args)\n",
    "base_model.fit(X_train,y_train)\n",
    "predictors=list(X_train)\n",
    "\n",
    "# Feature importance Top 10\n",
    "feat_imp = pd.Series(base_model.feature_importances_, predictors).sort_values(ascending=False)\n",
    "feat_imp[:10].plot(kind='bar', title='Importance of Features')\n",
    "plt.ylabel('Feature Importance Score')\n",
    "\n",
    "# Accuracy\n",
    "print('Accuracy of the GBM on test set: {:.3f}'.format(base_model.score(X_test, y_test)))\n",
    "pred=base_model.predict(X_test)\n",
    "print(classification_report(y_test, pred))"
   ]
  },
  {
   "cell_type": "code",
   "execution_count": 5,
   "metadata": {},
   "outputs": [
    {
     "data": {
      "text/plain": [
       "([mean: 1.00000, std: 0.00000, params: {'learning_rate': 0.15, 'n_estimators': 100},\n",
       "  mean: 1.00000, std: 0.00000, params: {'learning_rate': 0.15, 'n_estimators': 250},\n",
       "  mean: 1.00000, std: 0.00000, params: {'learning_rate': 0.15, 'n_estimators': 500},\n",
       "  mean: 1.00000, std: 0.00000, params: {'learning_rate': 0.15, 'n_estimators': 750},\n",
       "  mean: 1.00000, std: 0.00000, params: {'learning_rate': 0.15, 'n_estimators': 1000},\n",
       "  mean: 1.00000, std: 0.00000, params: {'learning_rate': 0.15, 'n_estimators': 1250},\n",
       "  mean: 1.00000, std: 0.00000, params: {'learning_rate': 0.15, 'n_estimators': 1500},\n",
       "  mean: 1.00000, std: 0.00000, params: {'learning_rate': 0.15, 'n_estimators': 1750},\n",
       "  mean: 1.00000, std: 0.00000, params: {'learning_rate': 0.1, 'n_estimators': 100},\n",
       "  mean: 1.00000, std: 0.00000, params: {'learning_rate': 0.1, 'n_estimators': 250},\n",
       "  mean: 1.00000, std: 0.00000, params: {'learning_rate': 0.1, 'n_estimators': 500},\n",
       "  mean: 1.00000, std: 0.00000, params: {'learning_rate': 0.1, 'n_estimators': 750},\n",
       "  mean: 1.00000, std: 0.00000, params: {'learning_rate': 0.1, 'n_estimators': 1000},\n",
       "  mean: 1.00000, std: 0.00000, params: {'learning_rate': 0.1, 'n_estimators': 1250},\n",
       "  mean: 1.00000, std: 0.00000, params: {'learning_rate': 0.1, 'n_estimators': 1500},\n",
       "  mean: 1.00000, std: 0.00000, params: {'learning_rate': 0.1, 'n_estimators': 1750},\n",
       "  mean: 0.99807, std: 0.00386, params: {'learning_rate': 0.05, 'n_estimators': 100},\n",
       "  mean: 1.00000, std: 0.00000, params: {'learning_rate': 0.05, 'n_estimators': 250},\n",
       "  mean: 1.00000, std: 0.00000, params: {'learning_rate': 0.05, 'n_estimators': 500},\n",
       "  mean: 1.00000, std: 0.00000, params: {'learning_rate': 0.05, 'n_estimators': 750},\n",
       "  mean: 1.00000, std: 0.00000, params: {'learning_rate': 0.05, 'n_estimators': 1000},\n",
       "  mean: 1.00000, std: 0.00000, params: {'learning_rate': 0.05, 'n_estimators': 1250},\n",
       "  mean: 1.00000, std: 0.00000, params: {'learning_rate': 0.05, 'n_estimators': 1500},\n",
       "  mean: 1.00000, std: 0.00000, params: {'learning_rate': 0.05, 'n_estimators': 1750},\n",
       "  mean: 0.85616, std: 0.00416, params: {'learning_rate': 0.01, 'n_estimators': 100},\n",
       "  mean: 0.98253, std: 0.01282, params: {'learning_rate': 0.01, 'n_estimators': 250},\n",
       "  mean: 1.00000, std: 0.00000, params: {'learning_rate': 0.01, 'n_estimators': 500},\n",
       "  mean: 1.00000, std: 0.00000, params: {'learning_rate': 0.01, 'n_estimators': 750},\n",
       "  mean: 1.00000, std: 0.00000, params: {'learning_rate': 0.01, 'n_estimators': 1000},\n",
       "  mean: 1.00000, std: 0.00000, params: {'learning_rate': 0.01, 'n_estimators': 1250},\n",
       "  mean: 1.00000, std: 0.00000, params: {'learning_rate': 0.01, 'n_estimators': 1500},\n",
       "  mean: 1.00000, std: 0.00000, params: {'learning_rate': 0.01, 'n_estimators': 1750},\n",
       "  mean: 0.83868, std: 0.00151, params: {'learning_rate': 0.005, 'n_estimators': 100},\n",
       "  mean: 0.87369, std: 0.00837, params: {'learning_rate': 0.005, 'n_estimators': 250},\n",
       "  mean: 0.96894, std: 0.01771, params: {'learning_rate': 0.005, 'n_estimators': 500},\n",
       "  mean: 0.99806, std: 0.00237, params: {'learning_rate': 0.005, 'n_estimators': 750},\n",
       "  mean: 1.00000, std: 0.00000, params: {'learning_rate': 0.005, 'n_estimators': 1000},\n",
       "  mean: 1.00000, std: 0.00000, params: {'learning_rate': 0.005, 'n_estimators': 1250},\n",
       "  mean: 1.00000, std: 0.00000, params: {'learning_rate': 0.005, 'n_estimators': 1500},\n",
       "  mean: 1.00000, std: 0.00000, params: {'learning_rate': 0.005, 'n_estimators': 1750},\n",
       "  mean: 0.83868, std: 0.00151, params: {'learning_rate': 0.001, 'n_estimators': 100},\n",
       "  mean: 0.83868, std: 0.00151, params: {'learning_rate': 0.001, 'n_estimators': 250},\n",
       "  mean: 0.83868, std: 0.00151, params: {'learning_rate': 0.001, 'n_estimators': 500},\n",
       "  mean: 0.84257, std: 0.00366, params: {'learning_rate': 0.001, 'n_estimators': 750},\n",
       "  mean: 0.85520, std: 0.00561, params: {'learning_rate': 0.001, 'n_estimators': 1000},\n",
       "  mean: 0.87563, std: 0.00756, params: {'learning_rate': 0.001, 'n_estimators': 1250},\n",
       "  mean: 0.90964, std: 0.01348, params: {'learning_rate': 0.001, 'n_estimators': 1500},\n",
       "  mean: 0.93201, std: 0.01577, params: {'learning_rate': 0.001, 'n_estimators': 1750}],\n",
       " {'learning_rate': 0.15, 'n_estimators': 100},\n",
       " 1.0)"
      ]
     },
     "execution_count": 5,
     "metadata": {},
     "output_type": "execute_result"
    }
   ],
   "source": [
    "# Tunning Hyperparameters - Learning rate and estimators\n",
    "p_test = {'learning_rate':[0.15,0.1,0.05,0.01,0.005,0.001], 'n_estimators':[100,250,500,750,1000,1250,1500,1750]}\n",
    "\n",
    "tuning = GridSearchCV(estimator =GradientBoostingClassifier(**base_args), \n",
    "            param_grid = p_test, scoring='accuracy',n_jobs=4,iid=False, cv=5)\n",
    "tuning.fit(X_train,y_train)\n",
    "tuning.grid_scores_, tuning.best_params_, tuning.best_score_"
   ]
  },
  {
   "cell_type": "code",
   "execution_count": 16,
   "metadata": {},
   "outputs": [
    {
     "name": "stdout",
     "output_type": "stream",
     "text": [
      "             precision    recall  f1-score   support\n",
      "\n",
      "          0       0.89      0.96      0.92       370\n",
      "          1       0.62      0.37      0.46        71\n",
      "\n",
      "avg / total       0.84      0.86      0.85       441\n",
      "\n"
     ]
    }
   ],
   "source": [
    "# Model evaluation\n",
    "pred=tuning.predict(X_test)\n",
    "print(classification_report(y_test, pred))"
   ]
  },
  {
   "cell_type": "code",
   "execution_count": null,
   "metadata": {},
   "outputs": [],
   "source": [
    "# Model Evaluation\n",
    "base_args = {'max_depth': 3, 'subsample': 1, 'random_state': 2,\n",
    "            'min_samples_split': 2, 'min_samples_leaf':1, 'max_features':'sqrt'}\n",
    "model1 = GradientBoostingClassifier(learning_rate=0.1, n_estimators=1500, **base_args)\n",
    "model1.fit(X_train,y_train)\n",
    "predictors=list(X_train)\n",
    "\n",
    "# Feature Importance\n",
    "feat_imp = pd.Series(model1.feature_importances_, predictors).sort_values(ascending=False)\n",
    "feat_imp[:20].plot(kind='bar', title='Importance of Features')\n",
    "plt.ylabel('Feature Importance Score')\n",
    "\n",
    "# Accuracy\n",
    "print('Accuracy of the GBM on test set: {:.3f}'.format(model1.score(X_test, y_test)))\n",
    "pred=model1.predict(X_test)\n",
    "print(classification_report(y_test, pred))"
   ]
  },
  {
   "cell_type": "code",
   "execution_count": null,
   "metadata": {},
   "outputs": [],
   "source": [
    "# Tuning parameters - min sample splits, min sample leaf\n",
    "base_args = {'learning_rate': 0.1, 'n_estimators': 1500, 'max_depth': 3, 'subsample': 1, 'random_state': 2,\n",
    "            'max_features':'sqrt'}\n",
    "p_test = {'min_samples_split':[2,4,6,8,10,20,40,60,100], 'min_samples_leaf':[1,3,5,7,9]}\n",
    "\n",
    "tuning = GridSearchCV(estimator =GradientBoostingClassifier(**base_args), \n",
    "            param_grid = p_test, scoring='accuracy',n_jobs=4,iid=False, cv=5)\n",
    "tuning.fit(X_train,y_train)\n",
    "tuning.grid_scores_, tuning.best_params_, tuning.best_score_"
   ]
  },
  {
   "cell_type": "code",
   "execution_count": 21,
   "metadata": {},
   "outputs": [
    {
     "name": "stdout",
     "output_type": "stream",
     "text": [
      "Accuracy of the GBM on test set: 0.864\n",
      "             precision    recall  f1-score   support\n",
      "\n",
      "          0       0.89      0.96      0.92       370\n",
      "          1       0.64      0.35      0.45        71\n",
      "\n",
      "avg / total       0.85      0.86      0.85       441\n",
      "\n"
     ]
    },
    {
     "data": {
      "image/png": "[encoded data removed]",
      "text/plain": [
       "<Figure size 432x288 with 1 Axes>"
      ]
     },
     "metadata": {},
     "output_type": "display_data"
    }
   ],
   "source": [
    "# Model Evaluation\n",
    "base_args = {'learning_rate': 0.05, 'n_estimators': 750, 'max_depth': 3, 'subsample': 1, 'random_state': 2,\n",
    "            'max_features':'sqrt'}\n",
    "model2 = GradientBoostingClassifier(min_samples_leaf=1, min_samples_split=2, **base_args)\n",
    "model2.fit(X_train,y_train)\n",
    "predictors=list(X_train)\n",
    "\n",
    "# Feature Importance\n",
    "feat_imp = pd.Series(model2.feature_importances_, predictors).sort_values(ascending=False)\n",
    "feat_imp[:10].plot(kind='bar', title='Importance of Features')\n",
    "plt.ylabel('Feature Importance Score')\n",
    "\n",
    "# Accuracy\n",
    "print('Accuracy of the GBM on test set: {:.3f}'.format(model2.score(X_test, y_test)))\n",
    "pred=model2.predict(X_test)\n",
    "print(classification_report(y_test, pred))"
   ]
  },
  {
   "cell_type": "code",
   "execution_count": 23,
   "metadata": {},
   "outputs": [
    {
     "data": {
      "image/png": "[encoded data removed]",
      "text/plain": [
       "<Figure size 1440x720 with 1 Axes>"
      ]
     },
     "metadata": {},
     "output_type": "display_data"
    }
   ],
   "source": [
    "# Comparison of ROC AUC\n",
    "from sklearn import metrics\n",
    "from sklearn.metrics import roc_auc_score\n",
    "from sklearn.metrics import roc_curve \n",
    "\n",
    "# base\n",
    "base_model_args = {'max_depth': 3, 'n_estimators': 500, 'subsample': 1, 'random_state': 5,\n",
    "            'min_samples_split': 2, 'min_samples_leaf':1, 'max_features':'sqrt'}\n",
    "base_model = GradientBoostingClassifier(learning_rate=0.1, **base_model_args)\n",
    "base_model.fit(X_train,y_train)\n",
    "\n",
    "# learning rate, estimators\n",
    "model1_args = {'learning_rate':0.1,'max_depth': 3, 'n_estimators': 1500, 'subsample': 1, 'random_state': 5,\n",
    "            'min_samples_split': 2, 'min_samples_leaf':1, 'max_features':'sqrt'}\n",
    "model1 = GradientBoostingClassifier(**model1_args)\n",
    "model1.fit(X_train,y_train)\n",
    "\n",
    "# sample split, leaf\n",
    "model2_args = {'learning_rate':0.1,'max_depth': 3, 'n_estimators': 1500, 'subsample': 1, 'random_state': 5,\n",
    "            'min_samples_split': 2, 'min_samples_leaf':1, 'max_features':'sqrt'}\n",
    "model2=GradientBoostingClassifier(learning_rate=0.01, n_estimators=1500,max_depth=4, min_samples_split=40, min_samples_leaf=7,max_features=4 , subsample=0.95, random_state=10)\n",
    "model2.fit(X_train,y_train)\n",
    "\n",
    "#calculate values for ROC AUC plot\n",
    "#baseline model\n",
    "base_roc_auc = roc_auc_score(y_test, base_model.predict(X_test))\n",
    "fprB, tprB, thresholdsB = roc_curve(y_test, base_model.predict_proba(X_test)[:,1])\n",
    "#model 1\n",
    "model1_roc_auc = roc_auc_score(y_test, model1.predict(X_test))\n",
    "fpr1, tpr1, thresholds1 = roc_curve(y_test, model1.predict_proba(X_test)[:,1])\n",
    "#new tuned model \n",
    "model2_roc_auc = roc_auc_score(y_test, model2.predict(X_test))\n",
    "fprnew, tprnew, thresholds_new = roc_curve(y_test, model2.predict_proba(X_test)[:,1])\n",
    "\n",
    "plt.figure(figsize=(20,10))\n",
    "plt.plot(fprB, tprB, label='GBM Baseline (area = %0.2f)' % base_roc_auc)\n",
    "plt.plot(fpr1, tpr1, label='GBM Model 1 (area = %0.2f)' % model1_roc_auc)\n",
    "plt.plot(fprnew, tprnew, label='GBM Final Model (area = %0.2f)' % model2_roc_auc)\n",
    "\n",
    "plt.plot([0, 1], [0, 1],'r--')\n",
    "plt.xlim([0.0, 1.0])\n",
    "plt.ylim([0.0, 1.05])\n",
    "plt.xlabel('False Positive Rate')\n",
    "plt.ylabel('True Positive Rate')\n",
    "plt.title('Receiver operating characteristic')\n",
    "plt.legend(loc=\"lower right\")\n",
    "# plt.savefig('Log_ROC')\n",
    "plt.show()"
   ]
  },
  {
   "cell_type": "code",
   "execution_count": null,
   "metadata": {},
   "outputs": [],
   "source": []
  }
 ],
 "metadata": {
  "kernelspec": {
   "display_name": "naver_env",
   "language": "python",
   "name": "naver_env"
  },
  "language_info": {
   "codemirror_mode": {
    "name": "ipython",
    "version": 3
   },
   "file_extension": ".py",
   "mimetype": "text/x-python",
   "name": "python",
   "nbconvert_exporter": "python",
   "pygments_lexer": "ipython3",
   "version": "3.6.4"
  }
 },
 "nbformat": 4,
 "nbformat_minor": 2
}
