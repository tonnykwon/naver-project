{
 "cells": [
  {
   "cell_type": "code",
   "execution_count": 2,
   "metadata": {},
   "outputs": [],
   "source": [
    "import numpy as np\n",
    "import pandas as pd\n",
    "import matplotlib\n",
    "import seaborn as sns\n",
    "import matplotlib.pyplot as plt\n",
    "%matplotlib inline"
   ]
  },
  {
   "cell_type": "code",
   "execution_count": 2,
   "metadata": {},
   "outputs": [],
   "source": [
    "hr = pd.read_csv(\"data/hr_data.csv\")"
   ]
  },
  {
   "cell_type": "code",
   "execution_count": 3,
   "metadata": {},
   "outputs": [],
   "source": [
    "categorical_list= ['Attrition', 'BusinessTravel', 'Department', 'Education', 'EducationField', 'EnvironmentSatisfaction',\\\n",
    "                 'Gender', 'JobInvolvement', 'JobLevel','JobRole', 'JobSatisfaction','MaritalStatus','PerformanceRating',\\\n",
    "                    'StockOptionLevel','RelationshipSatisfaction', 'OverTime', 'WorkLifeBalance']"
   ]
  },
  {
   "cell_type": "code",
   "execution_count": 4,
   "metadata": {},
   "outputs": [],
   "source": [
    "for col in categorical_list:\n",
    "    hr[col] = hr[col].astype('category')"
   ]
  },
  {
   "cell_type": "code",
   "execution_count": 5,
   "metadata": {},
   "outputs": [
    {
     "data": {
      "text/plain": [
       "(1470, 32)"
      ]
     },
     "execution_count": 5,
     "metadata": {},
     "output_type": "execute_result"
    }
   ],
   "source": [
    "# del EmplyeeCount, StandardHours\n",
    "hr = hr.drop(['EmployeeCount', 'StandardHours', 'Over18'],1)\n",
    "hr.shape"
   ]
  },
  {
   "cell_type": "code",
   "execution_count": 6,
   "metadata": {},
   "outputs": [
    {
     "data": {
      "text/plain": [
       "Age                            int64\n",
       "Attrition                   category\n",
       "BusinessTravel              category\n",
       "DailyRate                      int64\n",
       "Department                  category\n",
       "DistanceFromHome               int64\n",
       "Education                   category\n",
       "EducationField              category\n",
       "EmployeeNumber                 int64\n",
       "EnvironmentSatisfaction     category\n",
       "Gender                      category\n",
       "HourlyRate                     int64\n",
       "JobInvolvement              category\n",
       "JobLevel                    category\n",
       "JobRole                     category\n",
       "JobSatisfaction             category\n",
       "MaritalStatus               category\n",
       "MonthlyIncome                  int64\n",
       "MonthlyRate                    int64\n",
       "NumCompaniesWorked             int64\n",
       "OverTime                    category\n",
       "PercentSalaryHike              int64\n",
       "PerformanceRating           category\n",
       "RelationshipSatisfaction    category\n",
       "StockOptionLevel            category\n",
       "TotalWorkingYears              int64\n",
       "TrainingTimesLastYear          int64\n",
       "WorkLifeBalance             category\n",
       "YearsAtCompany                 int64\n",
       "YearsInCurrentRole             int64\n",
       "YearsSinceLastPromotion        int64\n",
       "YearsWithCurrManager           int64\n",
       "dtype: object"
      ]
     },
     "execution_count": 6,
     "metadata": {},
     "output_type": "execute_result"
    }
   ],
   "source": [
    "hr.dtypes"
   ]
  },
  {
   "cell_type": "markdown",
   "metadata": {},
   "source": [
    "Education 1 'Below College' 2 'College' 3 'Bachelor' 4 'Master' 5 'Doctor'\n",
    "\n",
    "EnvironmentSatisfaction 1 'Low' 2 'Medium' 3 'High' 4 'Very High'\n",
    "\n",
    "JobInvolvement 1 'Low' 2 'Medium' 3 'High' 4 'Very High'\n",
    "\n",
    "JobSatisfaction 1 'Low' 2 'Medium' 3 'High' 4 'Very High'\n",
    "\n",
    "PerformanceRating 1 'Low' 2 'Good' 3 'Excellent' 4 'Outstanding'\n",
    "\n",
    "RelationshipSatisfaction 1 'Low' 2 'Medium' 3 'High' 4 'Very High'\n",
    "\n",
    "WorkLifeBalance 1 'Bad' 2 'Good' 3 'Better' 4 'Best'"
   ]
  },
  {
   "cell_type": "code",
   "execution_count": 7,
   "metadata": {},
   "outputs": [
    {
     "data": {
      "text/html": [
       "<div>\n",
       "<style scoped>\n",
       "    .dataframe tbody tr th:only-of-type {\n",
       "        vertical-align: middle;\n",
       "    }\n",
       "\n",
       "    .dataframe tbody tr th {\n",
       "        vertical-align: top;\n",
       "    }\n",
       "\n",
       "    .dataframe thead th {\n",
       "        text-align: right;\n",
       "    }\n",
       "</style>\n",
       "<table border=\"1\" class=\"dataframe\">\n",
       "  <thead>\n",
       "    <tr style=\"text-align: right;\">\n",
       "      <th></th>\n",
       "      <th>Age</th>\n",
       "      <th>DailyRate</th>\n",
       "      <th>DistanceFromHome</th>\n",
       "      <th>EmployeeNumber</th>\n",
       "      <th>HourlyRate</th>\n",
       "      <th>MonthlyIncome</th>\n",
       "      <th>MonthlyRate</th>\n",
       "      <th>NumCompaniesWorked</th>\n",
       "      <th>PercentSalaryHike</th>\n",
       "      <th>TotalWorkingYears</th>\n",
       "      <th>TrainingTimesLastYear</th>\n",
       "      <th>YearsAtCompany</th>\n",
       "      <th>YearsInCurrentRole</th>\n",
       "      <th>YearsSinceLastPromotion</th>\n",
       "      <th>YearsWithCurrManager</th>\n",
       "    </tr>\n",
       "    <tr>\n",
       "      <th>Attrition</th>\n",
       "      <th></th>\n",
       "      <th></th>\n",
       "      <th></th>\n",
       "      <th></th>\n",
       "      <th></th>\n",
       "      <th></th>\n",
       "      <th></th>\n",
       "      <th></th>\n",
       "      <th></th>\n",
       "      <th></th>\n",
       "      <th></th>\n",
       "      <th></th>\n",
       "      <th></th>\n",
       "      <th></th>\n",
       "      <th></th>\n",
       "    </tr>\n",
       "  </thead>\n",
       "  <tbody>\n",
       "    <tr>\n",
       "      <th>No</th>\n",
       "      <td>46313</td>\n",
       "      <td>1001818</td>\n",
       "      <td>10993</td>\n",
       "      <td>1267100</td>\n",
       "      <td>81319</td>\n",
       "      <td>8424768</td>\n",
       "      <td>17589706</td>\n",
       "      <td>3262</td>\n",
       "      <td>18780</td>\n",
       "      <td>14627</td>\n",
       "      <td>3493</td>\n",
       "      <td>9086</td>\n",
       "      <td>5529</td>\n",
       "      <td>2755</td>\n",
       "      <td>5385</td>\n",
       "    </tr>\n",
       "    <tr>\n",
       "      <th>Yes</th>\n",
       "      <td>7965</td>\n",
       "      <td>177836</td>\n",
       "      <td>2520</td>\n",
       "      <td>239452</td>\n",
       "      <td>15541</td>\n",
       "      <td>1134541</td>\n",
       "      <td>3450556</td>\n",
       "      <td>697</td>\n",
       "      <td>3578</td>\n",
       "      <td>1954</td>\n",
       "      <td>622</td>\n",
       "      <td>1216</td>\n",
       "      <td>688</td>\n",
       "      <td>461</td>\n",
       "      <td>676</td>\n",
       "    </tr>\n",
       "  </tbody>\n",
       "</table>\n",
       "</div>"
      ],
      "text/plain": [
       "             Age  DailyRate  DistanceFromHome  EmployeeNumber  HourlyRate  \\\n",
       "Attrition                                                                   \n",
       "No         46313    1001818             10993         1267100       81319   \n",
       "Yes         7965     177836              2520          239452       15541   \n",
       "\n",
       "           MonthlyIncome  MonthlyRate  NumCompaniesWorked  PercentSalaryHike  \\\n",
       "Attrition                                                                      \n",
       "No               8424768     17589706                3262              18780   \n",
       "Yes              1134541      3450556                 697               3578   \n",
       "\n",
       "           TotalWorkingYears  TrainingTimesLastYear  YearsAtCompany  \\\n",
       "Attrition                                                             \n",
       "No                     14627                   3493            9086   \n",
       "Yes                     1954                    622            1216   \n",
       "\n",
       "           YearsInCurrentRole  YearsSinceLastPromotion  YearsWithCurrManager  \n",
       "Attrition                                                                     \n",
       "No                       5529                     2755                  5385  \n",
       "Yes                       688                      461                   676  "
      ]
     },
     "execution_count": 7,
     "metadata": {},
     "output_type": "execute_result"
    }
   ],
   "source": [
    "attr_sum = hr.groupby(\"Attrition\").sum()\n",
    "attr_sum"
   ]
  },
  {
   "cell_type": "code",
   "execution_count": 8,
   "metadata": {},
   "outputs": [
    {
     "data": {
      "text/html": [
       "<div>\n",
       "<style scoped>\n",
       "    .dataframe tbody tr th:only-of-type {\n",
       "        vertical-align: middle;\n",
       "    }\n",
       "\n",
       "    .dataframe tbody tr th {\n",
       "        vertical-align: top;\n",
       "    }\n",
       "\n",
       "    .dataframe thead th {\n",
       "        text-align: right;\n",
       "    }\n",
       "</style>\n",
       "<table border=\"1\" class=\"dataframe\">\n",
       "  <thead>\n",
       "    <tr style=\"text-align: right;\">\n",
       "      <th></th>\n",
       "      <th>Age</th>\n",
       "      <th>DailyRate</th>\n",
       "      <th>DistanceFromHome</th>\n",
       "      <th>EmployeeNumber</th>\n",
       "      <th>HourlyRate</th>\n",
       "      <th>MonthlyIncome</th>\n",
       "      <th>MonthlyRate</th>\n",
       "      <th>NumCompaniesWorked</th>\n",
       "      <th>PercentSalaryHike</th>\n",
       "      <th>TotalWorkingYears</th>\n",
       "      <th>TrainingTimesLastYear</th>\n",
       "      <th>YearsAtCompany</th>\n",
       "      <th>YearsInCurrentRole</th>\n",
       "      <th>YearsSinceLastPromotion</th>\n",
       "      <th>YearsWithCurrManager</th>\n",
       "    </tr>\n",
       "  </thead>\n",
       "  <tbody>\n",
       "    <tr>\n",
       "      <th>No</th>\n",
       "      <td>0.527776</td>\n",
       "      <td>0.519881</td>\n",
       "      <td>0.456077</td>\n",
       "      <td>0.504247</td>\n",
       "      <td>0.501438</td>\n",
       "      <td>0.588024</td>\n",
       "      <td>0.494908</td>\n",
       "      <td>0.473566</td>\n",
       "      <td>0.502211</td>\n",
       "      <td>0.589971</td>\n",
       "      <td>0.519098</td>\n",
       "      <td>0.58953</td>\n",
       "      <td>0.607026</td>\n",
       "      <td>0.534602</td>\n",
       "      <td>0.604926</td>\n",
       "    </tr>\n",
       "    <tr>\n",
       "      <th>Yes</th>\n",
       "      <td>0.472224</td>\n",
       "      <td>0.480119</td>\n",
       "      <td>0.543923</td>\n",
       "      <td>0.495753</td>\n",
       "      <td>0.498562</td>\n",
       "      <td>0.411976</td>\n",
       "      <td>0.505092</td>\n",
       "      <td>0.526434</td>\n",
       "      <td>0.497789</td>\n",
       "      <td>0.410029</td>\n",
       "      <td>0.480902</td>\n",
       "      <td>0.41047</td>\n",
       "      <td>0.392974</td>\n",
       "      <td>0.465398</td>\n",
       "      <td>0.395074</td>\n",
       "    </tr>\n",
       "  </tbody>\n",
       "</table>\n",
       "</div>"
      ],
      "text/plain": [
       "          Age  DailyRate  DistanceFromHome  EmployeeNumber  HourlyRate  \\\n",
       "No   0.527776   0.519881          0.456077        0.504247    0.501438   \n",
       "Yes  0.472224   0.480119          0.543923        0.495753    0.498562   \n",
       "\n",
       "     MonthlyIncome  MonthlyRate  NumCompaniesWorked  PercentSalaryHike  \\\n",
       "No        0.588024     0.494908            0.473566           0.502211   \n",
       "Yes       0.411976     0.505092            0.526434           0.497789   \n",
       "\n",
       "     TotalWorkingYears  TrainingTimesLastYear  YearsAtCompany  \\\n",
       "No            0.589971               0.519098         0.58953   \n",
       "Yes           0.410029               0.480902         0.41047   \n",
       "\n",
       "     YearsInCurrentRole  YearsSinceLastPromotion  YearsWithCurrManager  \n",
       "No             0.607026                 0.534602              0.604926  \n",
       "Yes            0.392974                 0.465398              0.395074  "
      ]
     },
     "execution_count": 8,
     "metadata": {},
     "output_type": "execute_result"
    }
   ],
   "source": [
    "no_count = hr.groupby(\"Attrition\").count().iloc[0,0]\n",
    "yes_count = hr.groupby(\"Attrition\").count().iloc[1,0]\n",
    "\n",
    "attr_perc = pd.DataFrame([attr_sum.iloc[0,:]/no_count, attr_sum.iloc[1,:]/yes_count])\n",
    "attr_perc/attr_perc.sum(0)"
   ]
  },
  {
   "cell_type": "code",
   "execution_count": 9,
   "metadata": {},
   "outputs": [
    {
     "name": "stdout",
     "output_type": "stream",
     "text": [
      "0.8387755102040816\n",
      "237\n"
     ]
    }
   ],
   "source": [
    "print(no_count/(no_count+yes_count))\n",
    "print(yes_count)"
   ]
  },
  {
   "cell_type": "code",
   "execution_count": 10,
   "metadata": {},
   "outputs": [
    {
     "data": {
      "text/html": [
       "<div>\n",
       "<style scoped>\n",
       "    .dataframe tbody tr th:only-of-type {\n",
       "        vertical-align: middle;\n",
       "    }\n",
       "\n",
       "    .dataframe tbody tr th {\n",
       "        vertical-align: top;\n",
       "    }\n",
       "\n",
       "    .dataframe thead th {\n",
       "        text-align: right;\n",
       "    }\n",
       "</style>\n",
       "<table border=\"1\" class=\"dataframe\">\n",
       "  <thead>\n",
       "    <tr style=\"text-align: right;\">\n",
       "      <th></th>\n",
       "      <th>Age</th>\n",
       "      <th>DailyRate</th>\n",
       "      <th>DistanceFromHome</th>\n",
       "      <th>EmployeeNumber</th>\n",
       "      <th>HourlyRate</th>\n",
       "      <th>MonthlyIncome</th>\n",
       "      <th>MonthlyRate</th>\n",
       "      <th>NumCompaniesWorked</th>\n",
       "      <th>PercentSalaryHike</th>\n",
       "      <th>TotalWorkingYears</th>\n",
       "      <th>TrainingTimesLastYear</th>\n",
       "      <th>YearsAtCompany</th>\n",
       "      <th>YearsInCurrentRole</th>\n",
       "      <th>YearsSinceLastPromotion</th>\n",
       "      <th>YearsWithCurrManager</th>\n",
       "    </tr>\n",
       "  </thead>\n",
       "  <tbody>\n",
       "    <tr>\n",
       "      <th>No</th>\n",
       "      <td>NaN</td>\n",
       "      <td>NaN</td>\n",
       "      <td>NaN</td>\n",
       "      <td>NaN</td>\n",
       "      <td>NaN</td>\n",
       "      <td>NaN</td>\n",
       "      <td>NaN</td>\n",
       "      <td>NaN</td>\n",
       "      <td>NaN</td>\n",
       "      <td>NaN</td>\n",
       "      <td>NaN</td>\n",
       "      <td>NaN</td>\n",
       "      <td>NaN</td>\n",
       "      <td>NaN</td>\n",
       "      <td>NaN</td>\n",
       "    </tr>\n",
       "    <tr>\n",
       "      <th>Yes</th>\n",
       "      <td>-0.055553</td>\n",
       "      <td>-0.039761</td>\n",
       "      <td>0.087846</td>\n",
       "      <td>-0.008494</td>\n",
       "      <td>-0.002876</td>\n",
       "      <td>-0.176048</td>\n",
       "      <td>0.010183</td>\n",
       "      <td>0.052868</td>\n",
       "      <td>-0.004422</td>\n",
       "      <td>-0.179942</td>\n",
       "      <td>-0.038197</td>\n",
       "      <td>-0.17906</td>\n",
       "      <td>-0.214052</td>\n",
       "      <td>-0.069204</td>\n",
       "      <td>-0.209853</td>\n",
       "    </tr>\n",
       "  </tbody>\n",
       "</table>\n",
       "</div>"
      ],
      "text/plain": [
       "          Age  DailyRate  DistanceFromHome  EmployeeNumber  HourlyRate  \\\n",
       "No        NaN        NaN               NaN             NaN         NaN   \n",
       "Yes -0.055553  -0.039761          0.087846       -0.008494   -0.002876   \n",
       "\n",
       "     MonthlyIncome  MonthlyRate  NumCompaniesWorked  PercentSalaryHike  \\\n",
       "No             NaN          NaN                 NaN                NaN   \n",
       "Yes      -0.176048     0.010183            0.052868          -0.004422   \n",
       "\n",
       "     TotalWorkingYears  TrainingTimesLastYear  YearsAtCompany  \\\n",
       "No                 NaN                    NaN             NaN   \n",
       "Yes          -0.179942              -0.038197        -0.17906   \n",
       "\n",
       "     YearsInCurrentRole  YearsSinceLastPromotion  YearsWithCurrManager  \n",
       "No                  NaN                      NaN                   NaN  \n",
       "Yes           -0.214052                -0.069204             -0.209853  "
      ]
     },
     "execution_count": 10,
     "metadata": {},
     "output_type": "execute_result"
    }
   ],
   "source": [
    "(attr_perc/attr_perc.sum(0)).diff()"
   ]
  },
  {
   "cell_type": "markdown",
   "metadata": {},
   "source": [
    "\n",
    "* StockOptionLevel 23%\n",
    "* YearsInCurrentRole 21%\n",
    "* YearsWithCurrManager 20%\n",
    "* TotalWorkingYears 18%\n",
    "* YearsAtCompany 17.9%\n",
    "* MonthlyIncome 17.6%"
   ]
  },
  {
   "cell_type": "code",
   "execution_count": 11,
   "metadata": {},
   "outputs": [
    {
     "data": {
      "text/plain": [
       "<matplotlib.axes._subplots.AxesSubplot at 0x269bc7da160>"
      ]
     },
     "execution_count": 11,
     "metadata": {},
     "output_type": "execute_result"
    },
    {
     "data": {
      "image/png": "[encoded data removed]",
      "text/plain": [
       "<Figure size 432x288 with 1 Axes>"
      ]
     },
     "metadata": {},
     "output_type": "display_data"
    }
   ],
   "source": [
    "sns.countplot(x=\"Attrition\", data=hr)"
   ]
  },
  {
   "cell_type": "code",
   "execution_count": 12,
   "metadata": {
    "scrolled": true
   },
   "outputs": [
    {
     "name": "stdout",
     "output_type": "stream",
     "text": [
      "Age DailyRate DistanceFromHome EmployeeNumber HourlyRate MonthlyIncome MonthlyRate NumCompaniesWorked PercentSalaryHike TotalWorkingYears TrainingTimesLastYear YearsAtCompany YearsInCurrentRole YearsSinceLastPromotion YearsWithCurrManager\n"
     ]
    }
   ],
   "source": [
    "processed_data = hr.drop(categorical_list,1)\n",
    "column_names = processed_data.columns\n",
    "print(*column_names)"
   ]
  },
  {
   "cell_type": "markdown",
   "metadata": {},
   "source": [
    "## Normalization"
   ]
  },
  {
   "cell_type": "code",
   "execution_count": 13,
   "metadata": {
    "scrolled": true
   },
   "outputs": [
    {
     "name": "stdout",
     "output_type": "stream",
     "text": [
      "MinMaxScaler(copy=True, feature_range=(0, 1))\n"
     ]
    },
    {
     "data": {
      "text/html": [
       "<div>\n",
       "<style scoped>\n",
       "    .dataframe tbody tr th:only-of-type {\n",
       "        vertical-align: middle;\n",
       "    }\n",
       "\n",
       "    .dataframe tbody tr th {\n",
       "        vertical-align: top;\n",
       "    }\n",
       "\n",
       "    .dataframe thead th {\n",
       "        text-align: right;\n",
       "    }\n",
       "</style>\n",
       "<table border=\"1\" class=\"dataframe\">\n",
       "  <thead>\n",
       "    <tr style=\"text-align: right;\">\n",
       "      <th></th>\n",
       "      <th>Age</th>\n",
       "      <th>DailyRate</th>\n",
       "      <th>DistanceFromHome</th>\n",
       "      <th>EmployeeNumber</th>\n",
       "      <th>HourlyRate</th>\n",
       "      <th>MonthlyIncome</th>\n",
       "      <th>MonthlyRate</th>\n",
       "      <th>NumCompaniesWorked</th>\n",
       "      <th>PercentSalaryHike</th>\n",
       "      <th>TotalWorkingYears</th>\n",
       "      <th>TrainingTimesLastYear</th>\n",
       "      <th>YearsAtCompany</th>\n",
       "      <th>YearsInCurrentRole</th>\n",
       "      <th>YearsSinceLastPromotion</th>\n",
       "      <th>YearsWithCurrManager</th>\n",
       "    </tr>\n",
       "  </thead>\n",
       "  <tbody>\n",
       "    <tr>\n",
       "      <th>0</th>\n",
       "      <td>0.547619</td>\n",
       "      <td>0.715820</td>\n",
       "      <td>0.000000</td>\n",
       "      <td>0.000000</td>\n",
       "      <td>0.914286</td>\n",
       "      <td>0.262454</td>\n",
       "      <td>0.698053</td>\n",
       "      <td>0.888889</td>\n",
       "      <td>0.000000</td>\n",
       "      <td>0.200</td>\n",
       "      <td>0.0</td>\n",
       "      <td>0.15</td>\n",
       "      <td>0.222222</td>\n",
       "      <td>0.000000</td>\n",
       "      <td>0.294118</td>\n",
       "    </tr>\n",
       "    <tr>\n",
       "      <th>1</th>\n",
       "      <td>0.738095</td>\n",
       "      <td>0.126700</td>\n",
       "      <td>0.250000</td>\n",
       "      <td>0.000484</td>\n",
       "      <td>0.442857</td>\n",
       "      <td>0.217009</td>\n",
       "      <td>0.916001</td>\n",
       "      <td>0.111111</td>\n",
       "      <td>0.857143</td>\n",
       "      <td>0.250</td>\n",
       "      <td>0.5</td>\n",
       "      <td>0.25</td>\n",
       "      <td>0.388889</td>\n",
       "      <td>0.066667</td>\n",
       "      <td>0.411765</td>\n",
       "    </tr>\n",
       "    <tr>\n",
       "      <th>2</th>\n",
       "      <td>0.452381</td>\n",
       "      <td>0.909807</td>\n",
       "      <td>0.035714</td>\n",
       "      <td>0.001451</td>\n",
       "      <td>0.885714</td>\n",
       "      <td>0.056925</td>\n",
       "      <td>0.012126</td>\n",
       "      <td>0.666667</td>\n",
       "      <td>0.285714</td>\n",
       "      <td>0.175</td>\n",
       "      <td>0.5</td>\n",
       "      <td>0.00</td>\n",
       "      <td>0.000000</td>\n",
       "      <td>0.000000</td>\n",
       "      <td>0.000000</td>\n",
       "    </tr>\n",
       "    <tr>\n",
       "      <th>3</th>\n",
       "      <td>0.357143</td>\n",
       "      <td>0.923407</td>\n",
       "      <td>0.071429</td>\n",
       "      <td>0.001935</td>\n",
       "      <td>0.371429</td>\n",
       "      <td>0.100053</td>\n",
       "      <td>0.845814</td>\n",
       "      <td>0.111111</td>\n",
       "      <td>0.000000</td>\n",
       "      <td>0.200</td>\n",
       "      <td>0.5</td>\n",
       "      <td>0.20</td>\n",
       "      <td>0.388889</td>\n",
       "      <td>0.200000</td>\n",
       "      <td>0.000000</td>\n",
       "    </tr>\n",
       "    <tr>\n",
       "      <th>4</th>\n",
       "      <td>0.214286</td>\n",
       "      <td>0.350036</td>\n",
       "      <td>0.035714</td>\n",
       "      <td>0.002903</td>\n",
       "      <td>0.142857</td>\n",
       "      <td>0.129489</td>\n",
       "      <td>0.583738</td>\n",
       "      <td>1.000000</td>\n",
       "      <td>0.071429</td>\n",
       "      <td>0.150</td>\n",
       "      <td>0.5</td>\n",
       "      <td>0.05</td>\n",
       "      <td>0.111111</td>\n",
       "      <td>0.133333</td>\n",
       "      <td>0.117647</td>\n",
       "    </tr>\n",
       "  </tbody>\n",
       "</table>\n",
       "</div>"
      ],
      "text/plain": [
       "        Age  DailyRate  DistanceFromHome  EmployeeNumber  HourlyRate  \\\n",
       "0  0.547619   0.715820          0.000000        0.000000    0.914286   \n",
       "1  0.738095   0.126700          0.250000        0.000484    0.442857   \n",
       "2  0.452381   0.909807          0.035714        0.001451    0.885714   \n",
       "3  0.357143   0.923407          0.071429        0.001935    0.371429   \n",
       "4  0.214286   0.350036          0.035714        0.002903    0.142857   \n",
       "\n",
       "   MonthlyIncome  MonthlyRate  NumCompaniesWorked  PercentSalaryHike  \\\n",
       "0       0.262454     0.698053            0.888889           0.000000   \n",
       "1       0.217009     0.916001            0.111111           0.857143   \n",
       "2       0.056925     0.012126            0.666667           0.285714   \n",
       "3       0.100053     0.845814            0.111111           0.000000   \n",
       "4       0.129489     0.583738            1.000000           0.071429   \n",
       "\n",
       "   TotalWorkingYears  TrainingTimesLastYear  YearsAtCompany  \\\n",
       "0              0.200                    0.0            0.15   \n",
       "1              0.250                    0.5            0.25   \n",
       "2              0.175                    0.5            0.00   \n",
       "3              0.200                    0.5            0.20   \n",
       "4              0.150                    0.5            0.05   \n",
       "\n",
       "   YearsInCurrentRole  YearsSinceLastPromotion  YearsWithCurrManager  \n",
       "0            0.222222                 0.000000              0.294118  \n",
       "1            0.388889                 0.066667              0.411765  \n",
       "2            0.000000                 0.000000              0.000000  \n",
       "3            0.388889                 0.200000              0.000000  \n",
       "4            0.111111                 0.133333              0.117647  "
      ]
     },
     "execution_count": 13,
     "metadata": {},
     "output_type": "execute_result"
    }
   ],
   "source": [
    "from sklearn.preprocessing import MinMaxScaler\n",
    "\n",
    "scaler = MinMaxScaler()\n",
    "print(scaler.fit(processed_data))\n",
    "normalized_data = pd.DataFrame(scaler.transform(processed_data))\n",
    "normalized_data.columns= [*column_names]\n",
    "normalized_data.head()"
   ]
  },
  {
   "cell_type": "code",
   "execution_count": 14,
   "metadata": {},
   "outputs": [],
   "source": [
    "encoded_data = pd.get_dummies(hr.loc[:,categorical_list])"
   ]
  },
  {
   "cell_type": "code",
   "execution_count": 15,
   "metadata": {},
   "outputs": [],
   "source": [
    "normalized_data = pd.concat([normalized_data, encoded_data],1)"
   ]
  },
  {
   "cell_type": "code",
   "execution_count": 16,
   "metadata": {},
   "outputs": [
    {
     "data": {
      "text/plain": [
       "16"
      ]
     },
     "execution_count": 16,
     "metadata": {},
     "output_type": "execute_result"
    }
   ],
   "source": [
    "normalized_data.columns\n",
    "normalized_data.columns.get_loc(\"Attrition_Yes\")"
   ]
  },
  {
   "cell_type": "markdown",
   "metadata": {},
   "source": [
    "# Modeling\n",
    "* Logistic Regression(Done)\n",
    "* Random Forest(variable importance) - YH\n",
    "* Gradient Boosting - YJ\n",
    "* XGboost - MH"
   ]
  },
  {
   "cell_type": "markdown",
   "metadata": {},
   "source": [
    "## Logistic Regression"
   ]
  },
  {
   "cell_type": "code",
   "execution_count": 17,
   "metadata": {},
   "outputs": [],
   "source": [
    "# use Attrition_Yes as target\n",
    "normalized_data = normalized_data.drop(\"Attrition_No\",1)"
   ]
  },
  {
   "cell_type": "code",
   "execution_count": 18,
   "metadata": {},
   "outputs": [],
   "source": [
    "normalized_labels = normalized_data['Attrition_Yes']\n",
    "\n",
    "temp_data = normalized_data.drop(['Attrition_Yes'], axis=1)"
   ]
  },
  {
   "cell_type": "code",
   "execution_count": 19,
   "metadata": {},
   "outputs": [
    {
     "data": {
      "text/plain": [
       "((1470, 79), (1470,))"
      ]
     },
     "execution_count": 19,
     "metadata": {},
     "output_type": "execute_result"
    }
   ],
   "source": [
    "temp_data.shape, normalized_labels.shape"
   ]
  },
  {
   "cell_type": "code",
   "execution_count": 31,
   "metadata": {},
   "outputs": [
    {
     "name": "stdout",
     "output_type": "stream",
     "text": [
      "(1029, 79)\n",
      "(441, 79)\n",
      "(1029,)\n",
      "(441,)\n"
     ]
    }
   ],
   "source": [
    "# split train test\n",
    "from sklearn.model_selection import train_test_split\n",
    "\n",
    "X_train, X_test, y_train, y_test = train_test_split(temp_data, normalized_labels, test_size=0.3, random_state=12)\n",
    "print(X_train.shape)\n",
    "print(X_test.shape)\n",
    "print(y_train.shape)\n",
    "print(y_test.shape)"
   ]
  },
  {
   "cell_type": "code",
   "execution_count": 1,
   "metadata": {},
   "outputs": [
    {
     "ename": "NameError",
     "evalue": "name 'X_train' is not defined",
     "output_type": "error",
     "traceback": [
      "\u001b[1;31m---------------------------------------------------------------------------\u001b[0m",
      "\u001b[1;31mNameError\u001b[0m                                 Traceback (most recent call last)",
      "\u001b[1;32m<ipython-input-1-bc943283a7aa>\u001b[0m in \u001b[0;36m<module>\u001b[1;34m()\u001b[0m\n\u001b[0;32m      2\u001b[0m \u001b[1;33m\u001b[0m\u001b[0m\n\u001b[0;32m      3\u001b[0m \u001b[0mlogisticRegr\u001b[0m \u001b[1;33m=\u001b[0m \u001b[0mLogisticRegression\u001b[0m\u001b[1;33m(\u001b[0m\u001b[1;33m)\u001b[0m\u001b[1;33m\u001b[0m\u001b[0m\n\u001b[1;32m----> 4\u001b[1;33m \u001b[0mlogisticRegr\u001b[0m\u001b[1;33m.\u001b[0m\u001b[0mfit\u001b[0m\u001b[1;33m(\u001b[0m\u001b[0mX_train\u001b[0m\u001b[1;33m,\u001b[0m \u001b[0my_train\u001b[0m\u001b[1;33m)\u001b[0m\u001b[1;33m\u001b[0m\u001b[0m\n\u001b[0m\u001b[0;32m      5\u001b[0m \u001b[0mpredictions\u001b[0m \u001b[1;33m=\u001b[0m \u001b[0mlogisticRegr\u001b[0m\u001b[1;33m.\u001b[0m\u001b[0mpredict\u001b[0m\u001b[1;33m(\u001b[0m\u001b[0mX_test\u001b[0m\u001b[1;33m)\u001b[0m\u001b[1;33m\u001b[0m\u001b[0m\n\u001b[0;32m      6\u001b[0m \u001b[0mscore\u001b[0m \u001b[1;33m=\u001b[0m \u001b[0mlogisticRegr\u001b[0m\u001b[1;33m.\u001b[0m\u001b[0mscore\u001b[0m\u001b[1;33m(\u001b[0m\u001b[0mX_test\u001b[0m\u001b[1;33m,\u001b[0m \u001b[0my_test\u001b[0m\u001b[1;33m)\u001b[0m\u001b[1;33m\u001b[0m\u001b[0m\n",
      "\u001b[1;31mNameError\u001b[0m: name 'X_train' is not defined"
     ]
    }
   ],
   "source": [
    "from sklearn.linear_model import LogisticRegression\n",
    "\n",
    "logisticRegr = LogisticRegression()\n",
    "logisticRegr.fit(X_train, y_train)\n",
    "predictions = logisticRegr.predict(X_test)\n",
    "score = logisticRegr.score(X_test, y_test)\n",
    "print(score)"
   ]
  },
  {
   "cell_type": "code",
   "execution_count": 33,
   "metadata": {},
   "outputs": [
    {
     "name": "stdout",
     "output_type": "stream",
     "text": [
      "[[365  15]\n",
      " [ 33  28]]\n"
     ]
    }
   ],
   "source": [
    "import matplotlib.pyplot as plt\n",
    "import seaborn as sns\n",
    "from sklearn import metrics\n",
    "\n",
    "cm = metrics.confusion_matrix(y_test, predictions)\n",
    "print(cm)"
   ]
  },
  {
   "cell_type": "code",
   "execution_count": 34,
   "metadata": {},
   "outputs": [
    {
     "data": {
      "image/png": "[encoded data removed]",
      "text/plain": [
       "<Figure size 648x648 with 2 Axes>"
      ]
     },
     "metadata": {},
     "output_type": "display_data"
    }
   ],
   "source": [
    "plt.figure(figsize=(9,9))\n",
    "sns.heatmap(cm, annot=True, fmt=\".3f\", linewidths=.5, square = True, cmap = 'Blues_r');\n",
    "plt.ylabel('Actual label');\n",
    "plt.xlabel('Predicted label');\n",
    "all_sample_title = 'Accuracy Score: {0}'.format(score)\n",
    "plt.title(all_sample_title, size = 15);\n",
    "\n",
    "normalized_data.to_csv( \"data/processed_data.csv\")"
   ]
  },
  {
   "cell_type": "markdown",
   "metadata": {},
   "source": [
    "## Imbalanced Data\n",
    "* weighting: punishing the errors on the minority class\n",
    "* upsampling: randomly replicating instances in the minority class\n",
    "* downsampling: randomly removing instances in the majority class\n",
    "* SMOTE: synthetic minority oversampling technique(minority class instance)"
   ]
  }
 ],
 "metadata": {
  "kernelspec": {
   "display_name": "naver_env",
   "language": "python",
   "name": "naver_env"
  },
  "language_info": {
   "codemirror_mode": {
    "name": "ipython",
    "version": 3
   },
   "file_extension": ".py",
   "mimetype": "text/x-python",
   "name": "python",
   "nbconvert_exporter": "python",
   "pygments_lexer": "ipython3",
   "version": "3.6.5"
  }
 },
 "nbformat": 4,
 "nbformat_minor": 2
}
