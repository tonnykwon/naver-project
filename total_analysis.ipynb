{
 "cells": [
  {
   "cell_type": "code",
   "execution_count": 27,
   "metadata": {},
   "outputs": [],
   "source": [
    "import numpy as np\n",
    "import pandas as pd\n",
    "from sklearn.ensemble import GradientBoostingClassifier  #GBM \n",
    "from sklearn.model_selection import train_test_split\n",
    "from sklearn.metrics import classification_report\n",
    "from sklearn.grid_search import GridSearchCV\n",
    "\n",
    "import matplotlib.pylab as plt\n",
    "%matplotlib inline\n",
    "import seaborn as sns"
   ]
  },
  {
   "cell_type": "code",
   "execution_count": 28,
   "metadata": {
    "scrolled": true
   },
   "outputs": [
    {
     "data": {
      "text/html": [
       "<div>\n",
       "<style scoped>\n",
       "    .dataframe tbody tr th:only-of-type {\n",
       "        vertical-align: middle;\n",
       "    }\n",
       "\n",
       "    .dataframe tbody tr th {\n",
       "        vertical-align: top;\n",
       "    }\n",
       "\n",
       "    .dataframe thead th {\n",
       "        text-align: right;\n",
       "    }\n",
       "</style>\n",
       "<table border=\"1\" class=\"dataframe\">\n",
       "  <thead>\n",
       "    <tr style=\"text-align: right;\">\n",
       "      <th></th>\n",
       "      <th>Age</th>\n",
       "      <th>DailyRate</th>\n",
       "      <th>DistanceFromHome</th>\n",
       "      <th>EmployeeNumber</th>\n",
       "      <th>HourlyRate</th>\n",
       "      <th>MonthlyIncome</th>\n",
       "      <th>MonthlyRate</th>\n",
       "      <th>NumCompaniesWorked</th>\n",
       "      <th>PercentSalaryHike</th>\n",
       "      <th>TotalWorkingYears</th>\n",
       "      <th>...</th>\n",
       "      <th>RelationshipSatisfaction_1</th>\n",
       "      <th>RelationshipSatisfaction_2</th>\n",
       "      <th>RelationshipSatisfaction_3</th>\n",
       "      <th>RelationshipSatisfaction_4</th>\n",
       "      <th>OverTime_No</th>\n",
       "      <th>OverTime_Yes</th>\n",
       "      <th>WorkLifeBalance_1</th>\n",
       "      <th>WorkLifeBalance_2</th>\n",
       "      <th>WorkLifeBalance_3</th>\n",
       "      <th>WorkLifeBalance_4</th>\n",
       "    </tr>\n",
       "  </thead>\n",
       "  <tbody>\n",
       "    <tr>\n",
       "      <th>0</th>\n",
       "      <td>0.547619</td>\n",
       "      <td>0.715820</td>\n",
       "      <td>0.000000</td>\n",
       "      <td>0.000000</td>\n",
       "      <td>0.914286</td>\n",
       "      <td>0.262454</td>\n",
       "      <td>0.698053</td>\n",
       "      <td>0.888889</td>\n",
       "      <td>0.000000</td>\n",
       "      <td>0.200</td>\n",
       "      <td>...</td>\n",
       "      <td>1</td>\n",
       "      <td>0</td>\n",
       "      <td>0</td>\n",
       "      <td>0</td>\n",
       "      <td>0</td>\n",
       "      <td>1</td>\n",
       "      <td>1</td>\n",
       "      <td>0</td>\n",
       "      <td>0</td>\n",
       "      <td>0</td>\n",
       "    </tr>\n",
       "    <tr>\n",
       "      <th>1</th>\n",
       "      <td>0.738095</td>\n",
       "      <td>0.126700</td>\n",
       "      <td>0.250000</td>\n",
       "      <td>0.000484</td>\n",
       "      <td>0.442857</td>\n",
       "      <td>0.217009</td>\n",
       "      <td>0.916001</td>\n",
       "      <td>0.111111</td>\n",
       "      <td>0.857143</td>\n",
       "      <td>0.250</td>\n",
       "      <td>...</td>\n",
       "      <td>0</td>\n",
       "      <td>0</td>\n",
       "      <td>0</td>\n",
       "      <td>1</td>\n",
       "      <td>1</td>\n",
       "      <td>0</td>\n",
       "      <td>0</td>\n",
       "      <td>0</td>\n",
       "      <td>1</td>\n",
       "      <td>0</td>\n",
       "    </tr>\n",
       "    <tr>\n",
       "      <th>2</th>\n",
       "      <td>0.452381</td>\n",
       "      <td>0.909807</td>\n",
       "      <td>0.035714</td>\n",
       "      <td>0.001451</td>\n",
       "      <td>0.885714</td>\n",
       "      <td>0.056925</td>\n",
       "      <td>0.012126</td>\n",
       "      <td>0.666667</td>\n",
       "      <td>0.285714</td>\n",
       "      <td>0.175</td>\n",
       "      <td>...</td>\n",
       "      <td>0</td>\n",
       "      <td>1</td>\n",
       "      <td>0</td>\n",
       "      <td>0</td>\n",
       "      <td>0</td>\n",
       "      <td>1</td>\n",
       "      <td>0</td>\n",
       "      <td>0</td>\n",
       "      <td>1</td>\n",
       "      <td>0</td>\n",
       "    </tr>\n",
       "    <tr>\n",
       "      <th>3</th>\n",
       "      <td>0.357143</td>\n",
       "      <td>0.923407</td>\n",
       "      <td>0.071429</td>\n",
       "      <td>0.001935</td>\n",
       "      <td>0.371429</td>\n",
       "      <td>0.100053</td>\n",
       "      <td>0.845814</td>\n",
       "      <td>0.111111</td>\n",
       "      <td>0.000000</td>\n",
       "      <td>0.200</td>\n",
       "      <td>...</td>\n",
       "      <td>0</td>\n",
       "      <td>0</td>\n",
       "      <td>1</td>\n",
       "      <td>0</td>\n",
       "      <td>0</td>\n",
       "      <td>1</td>\n",
       "      <td>0</td>\n",
       "      <td>0</td>\n",
       "      <td>1</td>\n",
       "      <td>0</td>\n",
       "    </tr>\n",
       "    <tr>\n",
       "      <th>4</th>\n",
       "      <td>0.214286</td>\n",
       "      <td>0.350036</td>\n",
       "      <td>0.035714</td>\n",
       "      <td>0.002903</td>\n",
       "      <td>0.142857</td>\n",
       "      <td>0.129489</td>\n",
       "      <td>0.583738</td>\n",
       "      <td>1.000000</td>\n",
       "      <td>0.071429</td>\n",
       "      <td>0.150</td>\n",
       "      <td>...</td>\n",
       "      <td>0</td>\n",
       "      <td>0</td>\n",
       "      <td>0</td>\n",
       "      <td>1</td>\n",
       "      <td>1</td>\n",
       "      <td>0</td>\n",
       "      <td>0</td>\n",
       "      <td>0</td>\n",
       "      <td>1</td>\n",
       "      <td>0</td>\n",
       "    </tr>\n",
       "  </tbody>\n",
       "</table>\n",
       "<p>5 rows × 80 columns</p>\n",
       "</div>"
      ],
      "text/plain": [
       "        Age  DailyRate  DistanceFromHome  EmployeeNumber  HourlyRate  \\\n",
       "0  0.547619   0.715820          0.000000        0.000000    0.914286   \n",
       "1  0.738095   0.126700          0.250000        0.000484    0.442857   \n",
       "2  0.452381   0.909807          0.035714        0.001451    0.885714   \n",
       "3  0.357143   0.923407          0.071429        0.001935    0.371429   \n",
       "4  0.214286   0.350036          0.035714        0.002903    0.142857   \n",
       "\n",
       "   MonthlyIncome  MonthlyRate  NumCompaniesWorked  PercentSalaryHike  \\\n",
       "0       0.262454     0.698053            0.888889           0.000000   \n",
       "1       0.217009     0.916001            0.111111           0.857143   \n",
       "2       0.056925     0.012126            0.666667           0.285714   \n",
       "3       0.100053     0.845814            0.111111           0.000000   \n",
       "4       0.129489     0.583738            1.000000           0.071429   \n",
       "\n",
       "   TotalWorkingYears        ...          RelationshipSatisfaction_1  \\\n",
       "0              0.200        ...                                   1   \n",
       "1              0.250        ...                                   0   \n",
       "2              0.175        ...                                   0   \n",
       "3              0.200        ...                                   0   \n",
       "4              0.150        ...                                   0   \n",
       "\n",
       "   RelationshipSatisfaction_2  RelationshipSatisfaction_3  \\\n",
       "0                           0                           0   \n",
       "1                           0                           0   \n",
       "2                           1                           0   \n",
       "3                           0                           1   \n",
       "4                           0                           0   \n",
       "\n",
       "   RelationshipSatisfaction_4  OverTime_No  OverTime_Yes  WorkLifeBalance_1  \\\n",
       "0                           0            0             1                  1   \n",
       "1                           1            1             0                  0   \n",
       "2                           0            0             1                  0   \n",
       "3                           0            0             1                  0   \n",
       "4                           1            1             0                  0   \n",
       "\n",
       "   WorkLifeBalance_2  WorkLifeBalance_3  WorkLifeBalance_4  \n",
       "0                  0                  0                  0  \n",
       "1                  0                  1                  0  \n",
       "2                  0                  1                  0  \n",
       "3                  0                  1                  0  \n",
       "4                  0                  1                  0  \n",
       "\n",
       "[5 rows x 80 columns]"
      ]
     },
     "execution_count": 28,
     "metadata": {},
     "output_type": "execute_result"
    }
   ],
   "source": [
    "hr = pd.read_csv(\"data/processed_data.csv\")\n",
    "hr = hr.drop([\"Unnamed: 0\"], axis=1)\n",
    "target = \"Attrition_Yes\"\n",
    "hr.head()"
   ]
  },
  {
   "cell_type": "code",
   "execution_count": 29,
   "metadata": {},
   "outputs": [
    {
     "data": {
      "text/plain": [
       "(1470, 80)"
      ]
     },
     "execution_count": 29,
     "metadata": {},
     "output_type": "execute_result"
    }
   ],
   "source": [
    "hr.shape"
   ]
  },
  {
   "cell_type": "code",
   "execution_count": 30,
   "metadata": {},
   "outputs": [
    {
     "name": "stdout",
     "output_type": "stream",
     "text": [
      "(1029, 79)\n",
      "(441, 79)\n",
      "(1029,)\n",
      "(441,)\n"
     ]
    }
   ],
   "source": [
    "# split train test\n",
    "hr_labels = hr['Attrition_Yes']\n",
    "hr = hr.drop(['Attrition_Yes'], axis=1)\n",
    "\n",
    "X_train, X_test, y_train, y_test = train_test_split(hr, hr_labels, test_size=0.3, random_state=12)\n",
    "print(X_train.shape)\n",
    "print(X_test.shape)\n",
    "print(y_train.shape)\n",
    "print(y_test.shape)"
   ]
  },
  {
   "cell_type": "markdown",
   "metadata": {},
   "source": [
    "## Logistics Regression"
   ]
  },
  {
   "cell_type": "code",
   "execution_count": 31,
   "metadata": {},
   "outputs": [
    {
     "name": "stdout",
     "output_type": "stream",
     "text": [
      "0.9024943310657596\n"
     ]
    }
   ],
   "source": [
    "from sklearn.linear_model import LogisticRegression\n",
    "\n",
    "logisticRegr = LogisticRegression()\n",
    "logisticRegr.fit(X_train, y_train)\n",
    "predictions = logisticRegr.predict(X_test)\n",
    "score = logisticRegr.score(X_test, y_test)\n",
    "print(score)"
   ]
  },
  {
   "cell_type": "code",
   "execution_count": 34,
   "metadata": {},
   "outputs": [
    {
     "name": "stdout",
     "output_type": "stream",
     "text": [
      "[[364   6]\n",
      " [ 37  34]]\n"
     ]
    },
    {
     "data": {
      "text/plain": [
       "Text(0.5,1,'Accuracy Score: 0.9024943310657596')"
      ]
     },
     "execution_count": 34,
     "metadata": {},
     "output_type": "execute_result"
    },
    {
     "data": {
      "image/png": "[encoded data removed]",
      "text/plain": [
       "<Figure size 648x648 with 2 Axes>"
      ]
     },
     "metadata": {},
     "output_type": "display_data"
    }
   ],
   "source": [
    "import matplotlib.pyplot as plt\n",
    "import seaborn as sns\n",
    "from sklearn import metrics\n",
    "\n",
    "cm = metrics.confusion_matrix(y_test, predictions)\n",
    "print(cm)\n",
    "plt.figure(figsize=(9,9))\n",
    "sns.heatmap(cm, annot=True, fmt=\".3f\", linewidths=.5, square = True, cmap = 'Blues_r');\n",
    "plt.ylabel('Actual label');\n",
    "plt.xlabel('Predicted label');\n",
    "all_sample_title = 'Accuracy Score: {0}'.format(score)\n",
    "plt.title(all_sample_title, size = 15)"
   ]
  },
  {
   "cell_type": "markdown",
   "metadata": {},
   "source": [
    "## Logistic Prameter tuning(penalty L1 norm)"
   ]
  },
  {
   "cell_type": "code",
   "execution_count": 64,
   "metadata": {},
   "outputs": [
    {
     "data": {
      "text/html": [
       "<div>\n",
       "<style scoped>\n",
       "    .dataframe tbody tr th:only-of-type {\n",
       "        vertical-align: middle;\n",
       "    }\n",
       "\n",
       "    .dataframe tbody tr th {\n",
       "        vertical-align: top;\n",
       "    }\n",
       "\n",
       "    .dataframe thead th {\n",
       "        text-align: right;\n",
       "    }\n",
       "</style>\n",
       "<table border=\"1\" class=\"dataframe\">\n",
       "  <thead>\n",
       "    <tr style=\"text-align: right;\">\n",
       "      <th></th>\n",
       "      <th>C_parameter</th>\n",
       "      <th>Accuracy</th>\n",
       "    </tr>\n",
       "  </thead>\n",
       "  <tbody>\n",
       "    <tr>\n",
       "      <th>0</th>\n",
       "      <td>0.001</td>\n",
       "      <td>0.839002</td>\n",
       "    </tr>\n",
       "    <tr>\n",
       "      <th>1</th>\n",
       "      <td>0.010</td>\n",
       "      <td>0.839002</td>\n",
       "    </tr>\n",
       "    <tr>\n",
       "      <th>2</th>\n",
       "      <td>0.100</td>\n",
       "      <td>0.857143</td>\n",
       "    </tr>\n",
       "    <tr>\n",
       "      <th>3</th>\n",
       "      <td>1.000</td>\n",
       "      <td>0.897959</td>\n",
       "    </tr>\n",
       "    <tr>\n",
       "      <th>4</th>\n",
       "      <td>10.000</td>\n",
       "      <td>0.893424</td>\n",
       "    </tr>\n",
       "    <tr>\n",
       "      <th>5</th>\n",
       "      <td>100.000</td>\n",
       "      <td>0.891156</td>\n",
       "    </tr>\n",
       "  </tbody>\n",
       "</table>\n",
       "</div>"
      ],
      "text/plain": [
       "   C_parameter  Accuracy\n",
       "0        0.001  0.839002\n",
       "1        0.010  0.839002\n",
       "2        0.100  0.857143\n",
       "3        1.000  0.897959\n",
       "4       10.000  0.893424\n",
       "5      100.000  0.891156"
      ]
     },
     "execution_count": 64,
     "metadata": {},
     "output_type": "execute_result"
    }
   ],
   "source": [
    "from sklearn.metrics import accuracy_score\n",
    "\n",
    "C_param_range = [0.001,0.01,0.1,1,10,100]\n",
    "\n",
    "acc_table = pd.DataFrame(columns = ['C_parameter','Accuracy'])\n",
    "acc_table['C_parameter'] = C_param_range\n",
    "\n",
    "j = 0\n",
    "for i in C_param_range:\n",
    "    lr_tuning = LogisticRegression(penalty = 'l1', C = i)\n",
    "    lr_tuning.fit(X_train,y_train)\n",
    "    y_pred = lr_tuning.predict(X_test)\n",
    "    acc_table.iloc[j,1] = accuracy_score(y_test,y_pred)\n",
    "    j += 1\n",
    "\n",
    "acc_table"
   ]
  },
  {
   "cell_type": "markdown",
   "metadata": {},
   "source": [
    "## Logistic Prameter tuning(penalty L2 norm)"
   ]
  },
  {
   "cell_type": "code",
   "execution_count": 63,
   "metadata": {},
   "outputs": [
    {
     "data": {
      "text/html": [
       "<div>\n",
       "<style scoped>\n",
       "    .dataframe tbody tr th:only-of-type {\n",
       "        vertical-align: middle;\n",
       "    }\n",
       "\n",
       "    .dataframe tbody tr th {\n",
       "        vertical-align: top;\n",
       "    }\n",
       "\n",
       "    .dataframe thead th {\n",
       "        text-align: right;\n",
       "    }\n",
       "</style>\n",
       "<table border=\"1\" class=\"dataframe\">\n",
       "  <thead>\n",
       "    <tr style=\"text-align: right;\">\n",
       "      <th></th>\n",
       "      <th>C_parameter</th>\n",
       "      <th>Accuracy</th>\n",
       "    </tr>\n",
       "  </thead>\n",
       "  <tbody>\n",
       "    <tr>\n",
       "      <th>0</th>\n",
       "      <td>0.001</td>\n",
       "      <td>0.839002</td>\n",
       "    </tr>\n",
       "    <tr>\n",
       "      <th>1</th>\n",
       "      <td>0.010</td>\n",
       "      <td>0.839002</td>\n",
       "    </tr>\n",
       "    <tr>\n",
       "      <th>2</th>\n",
       "      <td>0.100</td>\n",
       "      <td>0.888889</td>\n",
       "    </tr>\n",
       "    <tr>\n",
       "      <th>3</th>\n",
       "      <td>1.000</td>\n",
       "      <td>0.902494</td>\n",
       "    </tr>\n",
       "    <tr>\n",
       "      <th>4</th>\n",
       "      <td>10.000</td>\n",
       "      <td>0.895692</td>\n",
       "    </tr>\n",
       "    <tr>\n",
       "      <th>5</th>\n",
       "      <td>100.000</td>\n",
       "      <td>0.891156</td>\n",
       "    </tr>\n",
       "  </tbody>\n",
       "</table>\n",
       "</div>"
      ],
      "text/plain": [
       "   C_parameter  Accuracy\n",
       "0        0.001  0.839002\n",
       "1        0.010  0.839002\n",
       "2        0.100  0.888889\n",
       "3        1.000  0.902494\n",
       "4       10.000  0.895692\n",
       "5      100.000  0.891156"
      ]
     },
     "execution_count": 63,
     "metadata": {},
     "output_type": "execute_result"
    }
   ],
   "source": [
    "from sklearn.metrics import accuracy_score\n",
    "\n",
    "C_param_range = [0.001,0.01,0.1,1,10,100]\n",
    "\n",
    "acc_table = pd.DataFrame(columns = ['C_parameter','Accuracy'])\n",
    "acc_table['C_parameter'] = C_param_range\n",
    "\n",
    "j = 0\n",
    "for i in C_param_range:\n",
    "    lr_tuning = LogisticRegression(penalty = 'l2', C = i)\n",
    "    lr_tuning.fit(X_train,y_train)\n",
    "    y_pred = lr_tuning.predict(X_test)\n",
    "    acc_table.iloc[j,1] = accuracy_score(y_test,y_pred)\n",
    "    j += 1\n",
    "\n",
    "acc_table"
   ]
  },
  {
   "cell_type": "markdown",
   "metadata": {},
   "source": [
    "## Gradient Boosting Method"
   ]
  },
  {
   "cell_type": "code",
   "execution_count": 35,
   "metadata": {},
   "outputs": [
    {
     "name": "stdout",
     "output_type": "stream",
     "text": [
      "Accuracy of the GBM on test set: 0.859\n",
      "             precision    recall  f1-score   support\n",
      "\n",
      "          0       0.89      0.96      0.92       370\n",
      "          1       0.61      0.35      0.45        71\n",
      "\n",
      "avg / total       0.84      0.86      0.84       441\n",
      "\n"
     ]
    },
    {
     "data": {
      "image/png": "[encoded data removed]",
      "text/plain": [
       "<Figure size 432x288 with 1 Axes>"
      ]
     },
     "metadata": {},
     "output_type": "display_data"
    }
   ],
   "source": [
    "# GBM base model\n",
    "# Base parameter setting\n",
    "# n_estimators: The number of boosting stages to perform. \n",
    "base_args = {'max_depth': 3, 'n_estimators': 500, 'subsample': 1, 'random_state': 2,\n",
    "            'min_samples_split': 2, 'min_samples_leaf':1, 'max_features':'sqrt'}\n",
    "\n",
    "base_model = GradientBoostingClassifier(learning_rate=0.1,**base_args)\n",
    "base_model.fit(X_train,y_train)\n",
    "predictors=list(X_train)\n",
    "\n",
    "# Feature importance Top 10\n",
    "feat_imp = pd.Series(base_model.feature_importances_, predictors).sort_values(ascending=False)\n",
    "feat_imp[:10].plot(kind='bar', title='Importance of Features')\n",
    "plt.ylabel('Feature Importance Score')\n",
    "\n",
    "# Accuracy\n",
    "print('Accuracy of the GBM on test set: {:.3f}'.format(base_model.score(X_test, y_test)))\n",
    "pred=base_model.predict(X_test)\n",
    "print(classification_report(y_test, pred))"
   ]
  },
  {
   "cell_type": "code",
   "execution_count": 44,
   "metadata": {},
   "outputs": [
    {
     "data": {
      "text/plain": [
       "([mean: 0.85812, std: 0.00694, params: {'learning_rate': 0.15, 'n_estimators': 100},\n",
       "  mean: 0.86202, std: 0.01445, params: {'learning_rate': 0.15, 'n_estimators': 250},\n",
       "  mean: 0.86494, std: 0.01725, params: {'learning_rate': 0.15, 'n_estimators': 500},\n",
       "  mean: 0.86786, std: 0.01727, params: {'learning_rate': 0.15, 'n_estimators': 750},\n",
       "  mean: 0.86881, std: 0.01527, params: {'learning_rate': 0.15, 'n_estimators': 1000},\n",
       "  mean: 0.86978, std: 0.01714, params: {'learning_rate': 0.15, 'n_estimators': 1250},\n",
       "  mean: 0.86978, std: 0.01714, params: {'learning_rate': 0.15, 'n_estimators': 1500},\n",
       "  mean: 0.86978, std: 0.01714, params: {'learning_rate': 0.15, 'n_estimators': 1750},\n",
       "  mean: 0.86202, std: 0.01106, params: {'learning_rate': 0.1, 'n_estimators': 100},\n",
       "  mean: 0.86689, std: 0.01213, params: {'learning_rate': 0.1, 'n_estimators': 250},\n",
       "  mean: 0.86885, std: 0.01560, params: {'learning_rate': 0.1, 'n_estimators': 500},\n",
       "  mean: 0.86787, std: 0.01797, params: {'learning_rate': 0.1, 'n_estimators': 750},\n",
       "  mean: 0.86884, std: 0.01683, params: {'learning_rate': 0.1, 'n_estimators': 1000},\n",
       "  mean: 0.87079, std: 0.01776, params: {'learning_rate': 0.1, 'n_estimators': 1250},\n",
       "  mean: 0.87078, std: 0.01617, params: {'learning_rate': 0.1, 'n_estimators': 1500},\n",
       "  mean: 0.86981, std: 0.01489, params: {'learning_rate': 0.1, 'n_estimators': 1750},\n",
       "  mean: 0.86104, std: 0.01388, params: {'learning_rate': 0.05, 'n_estimators': 100},\n",
       "  mean: 0.86300, std: 0.00900, params: {'learning_rate': 0.05, 'n_estimators': 250},\n",
       "  mean: 0.86302, std: 0.01541, params: {'learning_rate': 0.05, 'n_estimators': 500},\n",
       "  mean: 0.86689, std: 0.01213, params: {'learning_rate': 0.05, 'n_estimators': 750},\n",
       "  mean: 0.86787, std: 0.01318, params: {'learning_rate': 0.05, 'n_estimators': 1000},\n",
       "  mean: 0.86883, std: 0.01571, params: {'learning_rate': 0.05, 'n_estimators': 1250},\n",
       "  mean: 0.86980, std: 0.01432, params: {'learning_rate': 0.05, 'n_estimators': 1500},\n",
       "  mean: 0.86883, std: 0.01309, params: {'learning_rate': 0.05, 'n_estimators': 1750},\n",
       "  mean: 0.84257, std: 0.00366, params: {'learning_rate': 0.01, 'n_estimators': 100},\n",
       "  mean: 0.85326, std: 0.00694, params: {'learning_rate': 0.01, 'n_estimators': 250},\n",
       "  mean: 0.85909, std: 0.00678, params: {'learning_rate': 0.01, 'n_estimators': 500},\n",
       "  mean: 0.86202, std: 0.00696, params: {'learning_rate': 0.01, 'n_estimators': 750},\n",
       "  mean: 0.86202, std: 0.00696, params: {'learning_rate': 0.01, 'n_estimators': 1000},\n",
       "  mean: 0.86396, std: 0.00650, params: {'learning_rate': 0.01, 'n_estimators': 1250},\n",
       "  mean: 0.86105, std: 0.00868, params: {'learning_rate': 0.01, 'n_estimators': 1500},\n",
       "  mean: 0.86202, std: 0.00686, params: {'learning_rate': 0.01, 'n_estimators': 1750},\n",
       "  mean: 0.83868, std: 0.00151, params: {'learning_rate': 0.005, 'n_estimators': 100},\n",
       "  mean: 0.84452, std: 0.00385, params: {'learning_rate': 0.005, 'n_estimators': 250},\n",
       "  mean: 0.85423, std: 0.00668, params: {'learning_rate': 0.005, 'n_estimators': 500},\n",
       "  mean: 0.85812, std: 0.00542, params: {'learning_rate': 0.005, 'n_estimators': 750},\n",
       "  mean: 0.85908, std: 0.00880, params: {'learning_rate': 0.005, 'n_estimators': 1000},\n",
       "  mean: 0.86298, std: 0.00705, params: {'learning_rate': 0.005, 'n_estimators': 1250},\n",
       "  mean: 0.86396, std: 0.00893, params: {'learning_rate': 0.005, 'n_estimators': 1500},\n",
       "  mean: 0.86688, std: 0.00821, params: {'learning_rate': 0.005, 'n_estimators': 1750},\n",
       "  mean: 0.83868, std: 0.00151, params: {'learning_rate': 0.001, 'n_estimators': 100},\n",
       "  mean: 0.83868, std: 0.00151, params: {'learning_rate': 0.001, 'n_estimators': 250},\n",
       "  mean: 0.83868, std: 0.00151, params: {'learning_rate': 0.001, 'n_estimators': 500},\n",
       "  mean: 0.83868, std: 0.00151, params: {'learning_rate': 0.001, 'n_estimators': 750},\n",
       "  mean: 0.84257, std: 0.00366, params: {'learning_rate': 0.001, 'n_estimators': 1000},\n",
       "  mean: 0.84452, std: 0.00385, params: {'learning_rate': 0.001, 'n_estimators': 1250},\n",
       "  mean: 0.84743, std: 0.00477, params: {'learning_rate': 0.001, 'n_estimators': 1500},\n",
       "  mean: 0.85034, std: 0.00482, params: {'learning_rate': 0.001, 'n_estimators': 1750}],\n",
       " {'learning_rate': 0.1, 'n_estimators': 1250},\n",
       " 0.8707871204503519)"
      ]
     },
     "execution_count": 44,
     "metadata": {},
     "output_type": "execute_result"
    }
   ],
   "source": [
    "# Tunning Hyperparameters - Learning rate and estimators\n",
    "p_test = {'learning_rate':[0.15,0.1,0.05,0.01,0.005,0.001], 'n_estimators':[100,250,500,750,1000,1250,1500,1750]}\n",
    "\n",
    "tuning = GridSearchCV(estimator =GradientBoostingClassifier(**base_args), \n",
    "            param_grid = p_test, scoring='accuracy',n_jobs=4,iid=False, cv=5)\n",
    "tuning.fit(X_train,y_train)\n",
    "tuning.grid_scores_, tuning.best_params_, tuning.best_score_"
   ]
  },
  {
   "cell_type": "code",
   "execution_count": 45,
   "metadata": {},
   "outputs": [
    {
     "name": "stdout",
     "output_type": "stream",
     "text": [
      "Accuracy of the GBM on test set: 0.864\n",
      "             precision    recall  f1-score   support\n",
      "\n",
      "          0       0.89      0.96      0.92       370\n",
      "          1       0.62      0.35      0.45        71\n",
      "\n",
      "avg / total       0.84      0.86      0.85       441\n",
      "\n"
     ]
    }
   ],
   "source": [
    "# Model evaluation\n",
    "pred=tuning.predict(X_test)\n",
    "print('Accuracy of the GBM on test set: {:.3f}'.format(model1.score(X_test, y_test)))\n",
    "print(classification_report(y_test, pred))"
   ]
  },
  {
   "cell_type": "code",
   "execution_count": 46,
   "metadata": {},
   "outputs": [
    {
     "name": "stdout",
     "output_type": "stream",
     "text": [
      "Accuracy of the GBM on test set: 0.864\n",
      "             precision    recall  f1-score   support\n",
      "\n",
      "          0       0.89      0.96      0.92       370\n",
      "          1       0.63      0.37      0.46        71\n",
      "\n",
      "avg / total       0.85      0.86      0.85       441\n",
      "\n"
     ]
    },
    {
     "data": {
      "image/png": "[encoded data removed]",
      "text/plain": [
       "<Figure size 432x288 with 1 Axes>"
      ]
     },
     "metadata": {},
     "output_type": "display_data"
    }
   ],
   "source": [
    "# Model Evaluation\n",
    "base_args = {'max_depth': 3, 'subsample': 1, 'random_state': 2,\n",
    "            'min_samples_split': 2, 'min_samples_leaf':1, 'max_features':'sqrt'}\n",
    "model1 = GradientBoostingClassifier(learning_rate=0.1, n_estimators=1500, **base_args)\n",
    "model1.fit(X_train,y_train)\n",
    "predictors=list(X_train)\n",
    "\n",
    "# Feature Importance\n",
    "feat_imp = pd.Series(model1.feature_importances_, predictors).sort_values(ascending=False)\n",
    "feat_imp[:20].plot(kind='bar', title='Importance of Features')\n",
    "plt.ylabel('Feature Importance Score')\n",
    "\n",
    "# Accuracy\n",
    "print('Accuracy of the GBM on test set: {:.3f}'.format(model1.score(X_test, y_test)))\n",
    "pred=model1.predict(X_test)\n",
    "print(classification_report(y_test, pred))"
   ]
  },
  {
   "cell_type": "code",
   "execution_count": 47,
   "metadata": {},
   "outputs": [
    {
     "data": {
      "text/plain": [
       "([mean: 0.87078, std: 0.01617, params: {'min_samples_leaf': 1, 'min_samples_split': 2},\n",
       "  mean: 0.87271, std: 0.01406, params: {'min_samples_leaf': 1, 'min_samples_split': 4},\n",
       "  mean: 0.87465, std: 0.01793, params: {'min_samples_leaf': 1, 'min_samples_split': 6},\n",
       "  mean: 0.87077, std: 0.02122, params: {'min_samples_leaf': 1, 'min_samples_split': 8},\n",
       "  mean: 0.87369, std: 0.01316, params: {'min_samples_leaf': 1, 'min_samples_split': 10},\n",
       "  mean: 0.86785, std: 0.01506, params: {'min_samples_leaf': 1, 'min_samples_split': 20},\n",
       "  mean: 0.86494, std: 0.01588, params: {'min_samples_leaf': 1, 'min_samples_split': 40},\n",
       "  mean: 0.86203, std: 0.01141, params: {'min_samples_leaf': 1, 'min_samples_split': 60},\n",
       "  mean: 0.86202, std: 0.01446, params: {'min_samples_leaf': 1, 'min_samples_split': 100},\n",
       "  mean: 0.86883, std: 0.01447, params: {'min_samples_leaf': 3, 'min_samples_split': 2},\n",
       "  mean: 0.86883, std: 0.01447, params: {'min_samples_leaf': 3, 'min_samples_split': 4},\n",
       "  mean: 0.86883, std: 0.01447, params: {'min_samples_leaf': 3, 'min_samples_split': 6},\n",
       "  mean: 0.86399, std: 0.01933, params: {'min_samples_leaf': 3, 'min_samples_split': 8},\n",
       "  mean: 0.86690, std: 0.02157, params: {'min_samples_leaf': 3, 'min_samples_split': 10},\n",
       "  mean: 0.86495, std: 0.01247, params: {'min_samples_leaf': 3, 'min_samples_split': 20},\n",
       "  mean: 0.86788, std: 0.02016, params: {'min_samples_leaf': 3, 'min_samples_split': 40},\n",
       "  mean: 0.86885, std: 0.01528, params: {'min_samples_leaf': 3, 'min_samples_split': 60},\n",
       "  mean: 0.86007, std: 0.01301, params: {'min_samples_leaf': 3, 'min_samples_split': 100},\n",
       "  mean: 0.86688, std: 0.00973, params: {'min_samples_leaf': 5, 'min_samples_split': 2},\n",
       "  mean: 0.86688, std: 0.00973, params: {'min_samples_leaf': 5, 'min_samples_split': 4},\n",
       "  mean: 0.86688, std: 0.00973, params: {'min_samples_leaf': 5, 'min_samples_split': 6},\n",
       "  mean: 0.86688, std: 0.00973, params: {'min_samples_leaf': 5, 'min_samples_split': 8},\n",
       "  mean: 0.86688, std: 0.00973, params: {'min_samples_leaf': 5, 'min_samples_split': 10},\n",
       "  mean: 0.86590, std: 0.01269, params: {'min_samples_leaf': 5, 'min_samples_split': 20},\n",
       "  mean: 0.86203, std: 0.01142, params: {'min_samples_leaf': 5, 'min_samples_split': 40},\n",
       "  mean: 0.86300, std: 0.01525, params: {'min_samples_leaf': 5, 'min_samples_split': 60},\n",
       "  mean: 0.86300, std: 0.01703, params: {'min_samples_leaf': 5, 'min_samples_split': 100},\n",
       "  mean: 0.86592, std: 0.01178, params: {'min_samples_leaf': 7, 'min_samples_split': 2},\n",
       "  mean: 0.86592, std: 0.01178, params: {'min_samples_leaf': 7, 'min_samples_split': 4},\n",
       "  mean: 0.86592, std: 0.01178, params: {'min_samples_leaf': 7, 'min_samples_split': 6},\n",
       "  mean: 0.86592, std: 0.01178, params: {'min_samples_leaf': 7, 'min_samples_split': 8},\n",
       "  mean: 0.86592, std: 0.01178, params: {'min_samples_leaf': 7, 'min_samples_split': 10},\n",
       "  mean: 0.86396, std: 0.01003, params: {'min_samples_leaf': 7, 'min_samples_split': 20},\n",
       "  mean: 0.85812, std: 0.01546, params: {'min_samples_leaf': 7, 'min_samples_split': 40},\n",
       "  mean: 0.86008, std: 0.01962, params: {'min_samples_leaf': 7, 'min_samples_split': 60},\n",
       "  mean: 0.86107, std: 0.01780, params: {'min_samples_leaf': 7, 'min_samples_split': 100},\n",
       "  mean: 0.86785, std: 0.01103, params: {'min_samples_leaf': 9, 'min_samples_split': 2},\n",
       "  mean: 0.86785, std: 0.01103, params: {'min_samples_leaf': 9, 'min_samples_split': 4},\n",
       "  mean: 0.86785, std: 0.01103, params: {'min_samples_leaf': 9, 'min_samples_split': 6},\n",
       "  mean: 0.86785, std: 0.01103, params: {'min_samples_leaf': 9, 'min_samples_split': 8},\n",
       "  mean: 0.86785, std: 0.01103, params: {'min_samples_leaf': 9, 'min_samples_split': 10},\n",
       "  mean: 0.86591, std: 0.01442, params: {'min_samples_leaf': 9, 'min_samples_split': 20},\n",
       "  mean: 0.86788, std: 0.01789, params: {'min_samples_leaf': 9, 'min_samples_split': 40},\n",
       "  mean: 0.86592, std: 0.01613, params: {'min_samples_leaf': 9, 'min_samples_split': 60},\n",
       "  mean: 0.86301, std: 0.01747, params: {'min_samples_leaf': 9, 'min_samples_split': 100}],\n",
       " {'min_samples_leaf': 1, 'min_samples_split': 6},\n",
       " 0.8746470730220176)"
      ]
     },
     "execution_count": 47,
     "metadata": {},
     "output_type": "execute_result"
    }
   ],
   "source": [
    "# Tuning parameters - min sample splits, min sample leaf\n",
    "base_args = {'learning_rate': 0.1, 'n_estimators': 1500, 'max_depth': 3, 'subsample': 1, 'random_state': 2,\n",
    "            'max_features':'sqrt'}\n",
    "p_test = {'min_samples_split':[2,4,6,8,10,20,40,60,100], 'min_samples_leaf':[1,3,5,7,9]}\n",
    "\n",
    "tuning = GridSearchCV(estimator =GradientBoostingClassifier(**base_args), \n",
    "            param_grid = p_test, scoring='accuracy',n_jobs=4,iid=False, cv=5)\n",
    "tuning.fit(X_train,y_train)\n",
    "tuning.grid_scores_, tuning.best_params_, tuning.best_score_"
   ]
  },
  {
   "cell_type": "code",
   "execution_count": 49,
   "metadata": {},
   "outputs": [
    {
     "name": "stdout",
     "output_type": "stream",
     "text": [
      "GridSearchCV(cv=5, error_score='raise',\n",
      "       estimator=GradientBoostingClassifier(criterion='friedman_mse', init=None,\n",
      "              learning_rate=0.1, loss='deviance', max_depth=3,\n",
      "              max_features='sqrt', max_leaf_nodes=None,\n",
      "              min_impurity_decrease=0.0, min_impurity_split=None,\n",
      "              min_samples_leaf=1, min_samples_split=2,\n",
      "              min_weight_fraction_leaf=0.0, n_estimators=1500,\n",
      "              presort='auto', random_state=2, subsample=1, verbose=0,\n",
      "              warm_start=False),\n",
      "       fit_params={}, iid=False, n_jobs=4,\n",
      "       param_grid={'min_samples_split': [2, 4, 6, 8, 10, 20, 40, 60, 100], 'min_samples_leaf': [1, 3, 5, 7, 9]},\n",
      "       pre_dispatch='2*n_jobs', refit=True, scoring='accuracy', verbose=0)\n"
     ]
    }
   ],
   "source": [
    "print(tuning)"
   ]
  },
  {
   "cell_type": "code",
   "execution_count": 48,
   "metadata": {},
   "outputs": [
    {
     "name": "stdout",
     "output_type": "stream",
     "text": [
      "Accuracy of the GBM on test set: 0.868\n",
      "             precision    recall  f1-score   support\n",
      "\n",
      "          0       0.89      0.97      0.93       370\n",
      "          1       0.68      0.35      0.46        71\n",
      "\n",
      "avg / total       0.85      0.87      0.85       441\n",
      "\n"
     ]
    },
    {
     "data": {
      "image/png": "[encoded data removed]",
      "text/plain": [
       "<Figure size 432x288 with 1 Axes>"
      ]
     },
     "metadata": {},
     "output_type": "display_data"
    }
   ],
   "source": [
    "# Model Evaluation\n",
    "base_args = {'learning_rate': 0.05, 'n_estimators': 750, 'max_depth': 3, 'subsample': 1, 'random_state': 2,\n",
    "            'max_features':'sqrt'}\n",
    "model2 = GradientBoostingClassifier(min_samples_leaf=1, min_samples_split=2, **base_args)\n",
    "model2.fit(X_train,y_train)\n",
    "predictors=list(X_train)\n",
    "\n",
    "# Feature Importance\n",
    "feat_imp = pd.Series(model2.feature_importances_, predictors).sort_values(ascending=False)\n",
    "feat_imp[:10].plot(kind='bar', title='Importance of Features')\n",
    "plt.ylabel('Feature Importance Score')\n",
    "\n",
    "# Accuracy\n",
    "print('Accuracy of the GBM on test set: {:.3f}'.format(model2.score(X_test, y_test)))\n",
    "pred=model2.predict(X_test)\n",
    "print(classification_report(y_test, pred))"
   ]
  },
  {
   "cell_type": "code",
   "execution_count": 23,
   "metadata": {},
   "outputs": [
    {
     "data": {
      "image/png": "[encoded data removed]",
      "text/plain": [
       "<Figure size 1440x720 with 1 Axes>"
      ]
     },
     "metadata": {},
     "output_type": "display_data"
    }
   ],
   "source": [
    "# Comparison of ROC AUC\n",
    "from sklearn import metrics\n",
    "from sklearn.metrics import roc_auc_score\n",
    "from sklearn.metrics import roc_curve \n",
    "\n",
    "# base\n",
    "base_model_args = {'max_depth': 3, 'n_estimators': 500, 'subsample': 1, 'random_state': 5,\n",
    "            'min_samples_split': 2, 'min_samples_leaf':1, 'max_features':'sqrt'}\n",
    "base_model = GradientBoostingClassifier(learning_rate=0.1, **base_model_args)\n",
    "base_model.fit(X_train,y_train)\n",
    "\n",
    "# learning rate, estimators\n",
    "model1_args = {'learning_rate':0.1,'max_depth': 3, 'n_estimators': 1500, 'subsample': 1, 'random_state': 5,\n",
    "            'min_samples_split': 2, 'min_samples_leaf':1, 'max_features':'sqrt'}\n",
    "model1 = GradientBoostingClassifier(**model1_args)\n",
    "model1.fit(X_train,y_train)\n",
    "\n",
    "# sample split, leaf\n",
    "model2_args = {'learning_rate':0.1,'max_depth': 3, 'n_estimators': 1500, 'subsample': 1, 'random_state': 5,\n",
    "            'min_samples_split': 2, 'min_samples_leaf':1, 'max_features':'sqrt'}\n",
    "model2=GradientBoostingClassifier(learning_rate=0.01, n_estimators=1500,max_depth=4, min_samples_split=40, min_samples_leaf=7,max_features=4 , subsample=0.95, random_state=10)\n",
    "model2.fit(X_train,y_train)\n",
    "\n",
    "#calculate values for ROC AUC plot\n",
    "#baseline model\n",
    "base_roc_auc = roc_auc_score(y_test, base_model.predict(X_test))\n",
    "fprB, tprB, thresholdsB = roc_curve(y_test, base_model.predict_proba(X_test)[:,1])\n",
    "#model 1\n",
    "model1_roc_auc = roc_auc_score(y_test, model1.predict(X_test))\n",
    "fpr1, tpr1, thresholds1 = roc_curve(y_test, model1.predict_proba(X_test)[:,1])\n",
    "#new tuned model \n",
    "model2_roc_auc = roc_auc_score(y_test, model2.predict(X_test))\n",
    "fprnew, tprnew, thresholds_new = roc_curve(y_test, model2.predict_proba(X_test)[:,1])\n",
    "\n",
    "plt.figure(figsize=(20,10))\n",
    "plt.plot(fprB, tprB, label='GBM Baseline (area = %0.2f)' % base_roc_auc)\n",
    "plt.plot(fpr1, tpr1, label='GBM Model 1 (area = %0.2f)' % model1_roc_auc)\n",
    "plt.plot(fprnew, tprnew, label='GBM Final Model (area = %0.2f)' % model2_roc_auc)\n",
    "\n",
    "plt.plot([0, 1], [0, 1],'r--')\n",
    "plt.xlim([0.0, 1.0])\n",
    "plt.ylim([0.0, 1.05])\n",
    "plt.xlabel('False Positive Rate')\n",
    "plt.ylabel('True Positive Rate')\n",
    "plt.title('Receiver operating characteristic')\n",
    "plt.legend(loc=\"lower right\")\n",
    "# plt.savefig('Log_ROC')\n",
    "plt.show()"
   ]
  },
  {
   "cell_type": "code",
   "execution_count": 52,
   "metadata": {},
   "outputs": [
    {
     "name": "stdout",
     "output_type": "stream",
     "text": [
      "Accuracy of the GBM on test set: 0.884\n",
      "             precision    recall  f1-score   support\n",
      "\n",
      "          0       0.89      0.98      0.93       370\n",
      "          1       0.79      0.38      0.51        71\n",
      "\n",
      "avg / total       0.88      0.88      0.87       441\n",
      "\n"
     ]
    }
   ],
   "source": [
    "from sklearn import svm, grid_search\n",
    "from sklearn.model_selection import GridSearchCV\n",
    "\n",
    "Cs = [0.001, 0.01, 0.1, 1, 10]\n",
    "gammas = [0.001, 0.01, 0.1, 1]\n",
    "param_grid = {'C': Cs, 'gamma' : gammas}\n",
    "SVM_grid_search = GridSearchCV(svm.SVC(kernel='rbf'), param_grid, cv=10)\n",
    "SVM_grid_search.fit(X_train, y_train)\n",
    "SVM_grid_search.predict(X_test)\n",
    "print('Accuracy of the GBM on test set: {:.3f}'.format(SVM_grid_search.score(X_test, y_test)))\n",
    "pred=SVM_grid_search.predict(X_test)\n",
    "print(classification_report(y_test, pred))"
   ]
  },
  {
   "cell_type": "code",
   "execution_count": 55,
   "metadata": {},
   "outputs": [
    {
     "name": "stdout",
     "output_type": "stream",
     "text": [
      "[[363   7]\n",
      " [ 44  27]]\n"
     ]
    },
    {
     "data": {
      "text/plain": [
       "Text(0.5,1,'Accuracy Score: 0.8843537414965986')"
      ]
     },
     "execution_count": 55,
     "metadata": {},
     "output_type": "execute_result"
    },
    {
     "data": {
      "image/png": "[encoded data removed]",
      "text/plain": [
       "<Figure size 648x648 with 2 Axes>"
      ]
     },
     "metadata": {},
     "output_type": "display_data"
    }
   ],
   "source": [
    "cm = metrics.confusion_matrix(y_test, pred)\n",
    "print(cm)\n",
    "plt.figure(figsize=(9,9))\n",
    "sns.heatmap(cm, annot=True, fmt=\".3f\", linewidths=.5, square = True, cmap = 'Blues_r');\n",
    "plt.ylabel('Actual label');\n",
    "plt.xlabel('Predicted label');\n",
    "score = SVM_grid_search.score(X_test, y_test)\n",
    "all_sample_title = 'Accuracy Score: {0}'.format(score)\n",
    "plt.title(all_sample_title, size = 15)"
   ]
  },
  {
   "cell_type": "markdown",
   "metadata": {},
   "source": [
    "## XGBoost"
   ]
  },
  {
   "cell_type": "code",
   "execution_count": 85,
   "metadata": {},
   "outputs": [],
   "source": [
    "import xgboost as xgb\n",
    "import sklearn.cross_validation import "
   ]
  },
  {
   "cell_type": "code",
   "execution_count": 87,
   "metadata": {},
   "outputs": [],
   "source": [
    "xgb_model = xgb.XGBClassifier()\n",
    "params = {'learning_rate': [0.01, 0.05, 0.001],'max_depth': [6, 7, 8, 9], 'n_estimators': [5, 10, 100, 1000], 'seed': [12]}"
   ]
  },
  {
   "cell_type": "code",
   "execution_count": 96,
   "metadata": {},
   "outputs": [],
   "source": [
    "xg_clf = GridSearchCV(xgb_model, params, n_jobs=5,  \n",
    "                   scoring='roc_auc',\n",
    "                   verbose=2, refit=True)"
   ]
  },
  {
   "cell_type": "code",
   "execution_count": 98,
   "metadata": {},
   "outputs": [
    {
     "data": {
      "text/plain": [
       "XGBClassifier(base_score=0.5, booster='gbtree', colsample_bylevel=1,\n",
       "       colsample_bytree=1, gamma=0, learning_rate=0.1, max_delta_step=0,\n",
       "       max_depth=3, min_child_weight=1, missing=None, n_estimators=100,\n",
       "       n_jobs=1, nthread=None, objective='binary:logistic', random_state=0,\n",
       "       reg_alpha=0, reg_lambda=1, scale_pos_weight=1, seed=None,\n",
       "       silent=True, subsample=1)"
      ]
     },
     "execution_count": 98,
     "metadata": {},
     "output_type": "execute_result"
    }
   ],
   "source": [
    "xg_clf.estimator"
   ]
  },
  {
   "cell_type": "code",
   "execution_count": 99,
   "metadata": {},
   "outputs": [
    {
     "name": "stdout",
     "output_type": "stream",
     "text": [
      "Fitting 3 folds for each of 48 candidates, totalling 144 fits\n"
     ]
    },
    {
     "name": "stderr",
     "output_type": "stream",
     "text": [
      "[Parallel(n_jobs=5)]: Done  31 tasks      | elapsed:    7.7s\n",
      "[Parallel(n_jobs=5)]: Done 144 out of 144 | elapsed:   40.4s finished\n"
     ]
    },
    {
     "data": {
      "text/plain": [
       "GridSearchCV(cv=None, error_score='raise',\n",
       "       estimator=XGBClassifier(base_score=0.5, booster='gbtree', colsample_bylevel=1,\n",
       "       colsample_bytree=1, gamma=0, learning_rate=0.1, max_delta_step=0,\n",
       "       max_depth=3, min_child_weight=1, missing=None, n_estimators=100,\n",
       "       n_jobs=1, nthread=None, objective='binary:logistic', random_state=0,\n",
       "       reg_alpha=0, reg_lambda=1, scale_pos_weight=1, seed=None,\n",
       "       silent=True, subsample=1),\n",
       "       fit_params=None, iid=True, n_jobs=5,\n",
       "       param_grid={'nthread': [4], 'learning_rate': [0.01, 0.05, 0.001], 'max_depth': [6, 7, 8, 9], 'n_estimators': [5, 10, 100, 1000], 'seed': [12]},\n",
       "       pre_dispatch='2*n_jobs', refit=True, return_train_score='warn',\n",
       "       scoring='roc_auc', verbose=2)"
      ]
     },
     "execution_count": 99,
     "metadata": {},
     "output_type": "execute_result"
    }
   ],
   "source": [
    "xg_clf.fit(X_train, y_train)"
   ]
  },
  {
   "cell_type": "code",
   "execution_count": 100,
   "metadata": {},
   "outputs": [
    {
     "name": "stderr",
     "output_type": "stream",
     "text": [
      "C:\\Users\\LeeMH\\Anaconda3\\lib\\site-packages\\sklearn\\preprocessing\\label.py:151: DeprecationWarning: The truth value of an empty array is ambiguous. Returning False, but in future this will result in an error. Use `array.size > 0` to check that an array is not empty.\n",
      "  if diff:\n"
     ]
    },
    {
     "data": {
      "text/plain": [
       "0.8526077097505669"
      ]
     },
     "execution_count": 100,
     "metadata": {},
     "output_type": "execute_result"
    }
   ],
   "source": [
    "y_pred = clf.predict(X_test)\n",
    "score =  accuracy_score(y_test, y_pred)\n",
    "score"
   ]
  },
  {
   "cell_type": "markdown",
   "metadata": {},
   "source": [
    "## 투표기반 분류기"
   ]
  },
  {
   "cell_type": "code",
   "execution_count": 65,
   "metadata": {},
   "outputs": [],
   "source": [
    "from sklearn.ensemble import VotingClassifier"
   ]
  },
  {
   "cell_type": "markdown",
   "metadata": {},
   "source": [
    "+ 위에서 분석한 SVM Logistics Regression Gradient Boosting 방법을 종합하여 투표기반 분류기를 통해서 데이터를 분석\n",
    "    - 투표기반 분류기는 각 분류기의 예측을 모아서 가장 많이 선택된 클래스를 예측하는 것입니다."
   ]
  },
  {
   "cell_type": "code",
   "execution_count": 103,
   "metadata": {},
   "outputs": [
    {
     "name": "stdout",
     "output_type": "stream",
     "text": [
      "LogisticRegression 0.9024943310657596\n",
      "SVC 0.8843537414965986\n",
      "GradientBoostingClassifier 0.8662131519274376\n",
      "VotingClassifier 0.891156462585034\n"
     ]
    },
    {
     "name": "stderr",
     "output_type": "stream",
     "text": [
      "C:\\Users\\LeeMH\\Anaconda3\\lib\\site-packages\\sklearn\\preprocessing\\label.py:151: DeprecationWarning: The truth value of an empty array is ambiguous. Returning False, but in future this will result in an error. Use `array.size > 0` to check that an array is not empty.\n",
      "  if diff:\n"
     ]
    }
   ],
   "source": [
    "log_clf = LogisticRegression(C=1, penalty=\"l2\")\n",
    "svm_clf = SVM_grid_search.best_estimator_\n",
    "gbc_clf = tuning.best_estimator_\n",
    "xgb_clf = xg_clf.best_estimator_\n",
    "\n",
    "voting_clf = VotingClassifier(estimators=[('lr', log_clf), ('gbc', gbc_clf), ('svm', svm_clf)],\n",
    "                             voting='hard')\n",
    "\n",
    "voting_clf.fit(X_train, y_train)\n",
    "\n",
    "for clf in (log_clf, svm_clf, gbc_clf, voting_clf):\n",
    "    clf.fit(X_train,y_train)\n",
    "    y_pred = clf.predict(X_test)\n",
    "    print(clf.__class__.__name__, accuracy_score(y_test, y_pred))"
   ]
  },
  {
   "cell_type": "code",
   "execution_count": 83,
   "metadata": {},
   "outputs": [
    {
     "name": "stdout",
     "output_type": "stream",
     "text": [
      "LogisticRegression 0.9024943310657596\n",
      "SVC 0.8843537414965986\n",
      "VotingClassifier 0.8888888888888888\n"
     ]
    },
    {
     "name": "stderr",
     "output_type": "stream",
     "text": [
      "C:\\Users\\LeeMH\\Anaconda3\\lib\\site-packages\\sklearn\\preprocessing\\label.py:151: DeprecationWarning: The truth value of an empty array is ambiguous. Returning False, but in future this will result in an error. Use `array.size > 0` to check that an array is not empty.\n",
      "  if diff:\n"
     ]
    }
   ],
   "source": [
    "voting_clf2 = VotingClassifier(estimators=[('lr', log_clf), ('svm', svm_clf)], voting='hard')\n",
    "voting_clf2.fit(X_train, y_train)\n",
    "\n",
    "for clf in (log_clf, svm_clf, voting_clf2):\n",
    "    clf.fit(X_train,y_train)\n",
    "    y_pred = clf.predict(X_test)\n",
    "    print(clf.__class__.__name__, accuracy_score(y_test, y_pred))"
   ]
  },
  {
   "cell_type": "code",
   "execution_count": 105,
   "metadata": {},
   "outputs": [
    {
     "name": "stdout",
     "output_type": "stream",
     "text": [
      "LogisticRegression 0.9024943310657596\n",
      "SVC 0.8843537414965986\n",
      "GradientBoostingClassifier 0.8662131519274376\n"
     ]
    },
    {
     "name": "stderr",
     "output_type": "stream",
     "text": [
      "C:\\Users\\LeeMH\\Anaconda3\\lib\\site-packages\\sklearn\\preprocessing\\label.py:151: DeprecationWarning: The truth value of an empty array is ambiguous. Returning False, but in future this will result in an error. Use `array.size > 0` to check that an array is not empty.\n",
      "  if diff:\n"
     ]
    },
    {
     "name": "stdout",
     "output_type": "stream",
     "text": [
      "XGBClassifier 0.8526077097505669\n",
      "VotingClassifier 0.8843537414965986\n"
     ]
    },
    {
     "name": "stderr",
     "output_type": "stream",
     "text": [
      "C:\\Users\\LeeMH\\Anaconda3\\lib\\site-packages\\sklearn\\preprocessing\\label.py:151: DeprecationWarning: The truth value of an empty array is ambiguous. Returning False, but in future this will result in an error. Use `array.size > 0` to check that an array is not empty.\n",
      "  if diff:\n",
      "C:\\Users\\LeeMH\\Anaconda3\\lib\\site-packages\\sklearn\\preprocessing\\label.py:151: DeprecationWarning: The truth value of an empty array is ambiguous. Returning False, but in future this will result in an error. Use `array.size > 0` to check that an array is not empty.\n",
      "  if diff:\n"
     ]
    }
   ],
   "source": [
    "log_clf = LogisticRegression(C=1, penalty=\"l2\")\n",
    "svm_clf = SVM_grid_search.best_estimator_\n",
    "gbc_clf = tuning.best_estimator_\n",
    "xgb_clf = xg_clf.best_estimator_\n",
    "\n",
    "voting_clf = VotingClassifier(estimators=[('lr', log_clf), ('gbc', gbc_clf), ('svm', svm_clf),('xgb', xgb_clf)],\n",
    "                             voting='hard')\n",
    "\n",
    "voting_clf.fit(X_train, y_train)\n",
    "\n",
    "for clf in (log_clf, svm_clf, gbc_clf, xgb_clf, voting_clf):\n",
    "    clf.fit(X_train,y_train)\n",
    "    y_pred = clf.predict(X_test)\n",
    "    print(clf.__class__.__name__, accuracy_score(y_test, y_pred))"
   ]
  }
 ],
 "metadata": {
  "kernelspec": {
   "display_name": "naver_env",
   "language": "python",
   "name": "naver_env"
  },
  "language_info": {
   "codemirror_mode": {
    "name": "ipython",
    "version": 3
   },
   "file_extension": ".py",
   "mimetype": "text/x-python",
   "name": "python",
   "nbconvert_exporter": "python",
   "pygments_lexer": "ipython3",
   "version": "3.6.5"
  }
 },
 "nbformat": 4,
 "nbformat_minor": 2
}
